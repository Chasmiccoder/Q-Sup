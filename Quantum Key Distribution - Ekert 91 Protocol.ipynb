{
 "cells": [
  {
   "cell_type": "markdown",
   "id": "2a723869",
   "metadata": {},
   "source": [
    "### Demonstration of Quantum Key Distribution with the Ekert 91 Protocol\n",
    "\n",
    "Algorithm -\n",
    "1. First generate the a maximally entangled qubit pair |psi+> = 1/root(2) * (|01> + |10>)"
   ]
  },
  {
   "cell_type": "code",
   "execution_count": 2,
   "id": "27ae64f0",
   "metadata": {},
   "outputs": [
    {
     "name": "stdout",
     "output_type": "stream",
     "text": [
      "Process Complete!\n"
     ]
    }
   ],
   "source": [
    "import os\n",
    "from apikey import token\n",
    "\n",
    "from qiskit import execute\n",
    "from qiskit.circuit import QuantumRegister, ClassicalRegister, QuantumCircuit\n",
    "\n",
    "from quantuminspire.credentials import enable_account, get_authentication\n",
    "from quantuminspire.qiskit import QI\n",
    "\n",
    "print(\"Process Complete!\")"
   ]
  },
  {
   "cell_type": "code",
   "execution_count": 4,
   "id": "a6c0a07b",
   "metadata": {},
   "outputs": [
    {
     "name": "stdout",
     "output_type": "stream",
     "text": [
      "Process Complete!\n"
     ]
    }
   ],
   "source": [
    "# Initiating the Quantum Inspire Account -\n",
    "enable_account(token)\n",
    "authentication = get_authentication()\n",
    "QI.set_authentication()\n",
    "qi_backend = QI.get_backend('QX single-node simulator')\n",
    "\n",
    "print(\"Process Complete!\")"
   ]
  },
  {
   "cell_type": "code",
   "execution_count": 6,
   "id": "e49f7eb3",
   "metadata": {},
   "outputs": [
    {
     "name": "stdout",
     "output_type": "stream",
     "text": [
      "Process Complete!\n"
     ]
    }
   ],
   "source": [
    "# Step 1 - Creating EPR Pair\n",
    "q = QuantumRegister(2)\n",
    "b = ClassicalRegister(2)\n",
    "circuit = QuantumCircuit(q, b)\n",
    "\n",
    "circuit.h(q[0])\n",
    "circuit.x(q[1])\n",
    "circuit.cx(q[0], q[1])\n",
    "\n",
    "circuit.measure(q, b)\n",
    "\n",
    "qi_job = execute(circuit, backend=qi_backend, shots=256)\n",
    "qi_result = qi_job.result()\n",
    "\n",
    "print(\"Process Complete!\")"
   ]
  },
  {
   "cell_type": "code",
   "execution_count": 7,
   "id": "81611acb",
   "metadata": {},
   "outputs": [
    {
     "name": "stdout",
     "output_type": "stream",
     "text": [
      "\n",
      "State\tCounts\n",
      "01\t\t126\n",
      "10\t\t130\n",
      "\n",
      "State\tProbabilities\n",
      "01\t\t0.4921875\n",
      "10\t\t0.5078125\n"
     ]
    },
    {
     "data": {
      "text/plain": [
       "[None, None]"
      ]
     },
     "execution_count": 7,
     "metadata": {},
     "output_type": "execute_result"
    }
   ],
   "source": [
    "histogram = qi_result.get_counts(circuit)\n",
    "print('\\nState\\tCounts')\n",
    "[print('{0}\\t\\t{1}'.format(state, counts)) for state, counts in histogram.items()]\n",
    "\n",
    "# Print the full state probabilities histogram\n",
    "probabilities_histogram = qi_result.get_probabilities(circuit)\n",
    "print('\\nState\\tProbabilities')\n",
    "[print('{0}\\t\\t{1}'.format(state, val)) for state, val in probabilities_histogram.items()]"
   ]
  },
  {
   "cell_type": "code",
   "execution_count": null,
   "id": "5904ad8f",
   "metadata": {},
   "outputs": [],
   "source": []
  },
  {
   "cell_type": "code",
   "execution_count": null,
   "id": "dbc691c1",
   "metadata": {},
   "outputs": [],
   "source": []
  },
  {
   "cell_type": "code",
   "execution_count": null,
   "id": "968e1536",
   "metadata": {},
   "outputs": [],
   "source": []
  },
  {
   "cell_type": "code",
   "execution_count": null,
   "id": "5bfaeb06",
   "metadata": {},
   "outputs": [],
   "source": []
  },
  {
   "cell_type": "code",
   "execution_count": null,
   "id": "f2bb1064",
   "metadata": {},
   "outputs": [],
   "source": []
  },
  {
   "cell_type": "code",
   "execution_count": null,
   "id": "efd1b9a6",
   "metadata": {},
   "outputs": [],
   "source": []
  },
  {
   "cell_type": "code",
   "execution_count": null,
   "id": "59f0f3a9",
   "metadata": {},
   "outputs": [],
   "source": []
  },
  {
   "cell_type": "code",
   "execution_count": null,
   "id": "4590556d",
   "metadata": {},
   "outputs": [],
   "source": []
  },
  {
   "cell_type": "code",
   "execution_count": null,
   "id": "f27c1faa",
   "metadata": {},
   "outputs": [],
   "source": []
  },
  {
   "cell_type": "code",
   "execution_count": null,
   "id": "92403556",
   "metadata": {},
   "outputs": [],
   "source": []
  },
  {
   "cell_type": "code",
   "execution_count": null,
   "id": "cbf290f5",
   "metadata": {},
   "outputs": [],
   "source": []
  },
  {
   "cell_type": "code",
   "execution_count": null,
   "id": "5f354c51",
   "metadata": {},
   "outputs": [],
   "source": []
  }
 ],
 "metadata": {
  "kernelspec": {
   "display_name": "env",
   "language": "python",
   "name": "env"
  },
  "language_info": {
   "codemirror_mode": {
    "name": "ipython",
    "version": 3
   },
   "file_extension": ".py",
   "mimetype": "text/x-python",
   "name": "python",
   "nbconvert_exporter": "python",
   "pygments_lexer": "ipython3",
   "version": "3.9.7"
  }
 },
 "nbformat": 4,
 "nbformat_minor": 5
}
