{
 "cells": [
  {
   "cell_type": "markdown",
   "id": "e5f5732b",
   "metadata": {},
   "source": [
    "### Demonstration of Quantum Key Distribution with the Ekert 91 Protocol\n",
    "\n",
    "Algorithm -\n",
    "1. First generate the a maximally entangled qubit pair |psi+> = 1/root(2) * (|01> + |10>)"
   ]
  },
  {
   "cell_type": "code",
   "execution_count": 2,
   "id": "55c2a86f",
   "metadata": {},
   "outputs": [
    {
     "name": "stdout",
     "output_type": "stream",
     "text": [
      "Process Complete!\n"
     ]
    }
   ],
   "source": [
    "import os\n",
    "from apikey import token\n",
    "\n",
    "from qiskit import execute\n",
    "from qiskit.circuit import QuantumRegister, ClassicalRegister, QuantumCircuit\n",
    "\n",
    "from quantuminspire.credentials import enable_account, get_authentication\n",
    "from quantuminspire.qiskit import QI\n",
    "\n",
    "print(\"Process Complete!\")"
   ]
  },
  {
   "cell_type": "code",
   "execution_count": 4,
   "id": "7fd445f1",
   "metadata": {},
   "outputs": [
    {
     "name": "stdout",
     "output_type": "stream",
     "text": [
      "Process Complete!\n"
     ]
    }
   ],
   "source": [
    "# Initiating the Quantum Inspire Account -\n",
    "enable_account(token)\n",
    "authentication = get_authentication()\n",
    "QI.set_authentication()\n",
    "qi_backend = QI.get_backend('QX single-node simulator')\n",
    "\n",
    "print(\"Process Complete!\")"
   ]
  },
  {
   "cell_type": "code",
   "execution_count": 6,
   "id": "89f0ac3e",
   "metadata": {},
   "outputs": [
    {
     "name": "stdout",
     "output_type": "stream",
     "text": [
      "Process Complete!\n"
     ]
    }
   ],
   "source": [
    "# Step 1 - Creating EPR Pair\n",
    "q = QuantumRegister(2)\n",
    "b = ClassicalRegister(2)\n",
    "circuit = QuantumCircuit(q, b)\n",
    "\n",
    "circuit.h(q[0])\n",
    "circuit.x(q[1])\n",
    "circuit.cx(q[0], q[1])\n",
    "\n",
    "\n",
    "\n",
    "\n",
    "\n",
    "print(\"Process Complete!\")"
   ]
  },
  {
   "cell_type": "code",
   "execution_count": 7,
   "id": "808f53f5",
   "metadata": {},
   "outputs": [
    {
     "name": "stdout",
     "output_type": "stream",
     "text": [
      "\n",
      "State\tCounts\n",
      "01\t\t126\n",
      "10\t\t130\n",
      "\n",
      "State\tProbabilities\n",
      "01\t\t0.4921875\n",
      "10\t\t0.5078125\n"
     ]
    },
    {
     "data": {
      "text/plain": [
       "[None, None]"
      ]
     },
     "execution_count": 7,
     "metadata": {},
     "output_type": "execute_result"
    }
   ],
   "source": [
    "circuit.measure(q, b)\n",
    "qi_job = execute(circuit, backend=qi_backend, shots=256)\n",
    "qi_result = qi_job.result()\n",
    "\n",
    "histogram = qi_result.get_counts(circuit)\n",
    "print('\\nState\\tCounts')\n",
    "[print('{0}\\t\\t{1}'.format(state, counts)) for state, counts in histogram.items()]\n",
    "\n",
    "# Print the full state probabilities histogram\n",
    "probabilities_histogram = qi_result.get_probabilities(circuit)\n",
    "print('\\nState\\tProbabilities')\n",
    "[print('{0}\\t\\t{1}'.format(state, val)) for state, val in probabilities_histogram.items()]"
   ]
  },
  {
   "cell_type": "markdown",
   "id": "0dd9c341",
   "metadata": {},
   "source": [
    "#### Measurement\n",
    "\n",
    "Ai = Alice's measurement\n",
    "Bi = Bob's measurement\n",
    "\n",
    "A1 = Alice measures along the Z basis\n",
    "A2 = Alice measures along the X basis\n",
    "A3 = Alice measures along 1/root(2) * (Z + X)\n"
   ]
  },
  {
   "cell_type": "code",
   "execution_count": null,
   "id": "0d8cf283",
   "metadata": {},
   "outputs": [],
   "source": [
    "# Giving q0 to Alice and q1 to Bob\n",
    "# Now testing the case in which both Alice and Bob measure along the Z basis\n",
    "# A1\n",
    "# Just directly perform a measurement"
   ]
  },
  {
   "cell_type": "code",
   "execution_count": null,
   "id": "231c7633",
   "metadata": {},
   "outputs": [],
   "source": []
  },
  {
   "cell_type": "code",
   "execution_count": null,
   "id": "5ff0360f",
   "metadata": {},
   "outputs": [],
   "source": []
  },
  {
   "cell_type": "code",
   "execution_count": null,
   "id": "5a3c6508",
   "metadata": {},
   "outputs": [],
   "source": []
  },
  {
   "cell_type": "code",
   "execution_count": null,
   "id": "ff42b33c",
   "metadata": {},
   "outputs": [],
   "source": []
  },
  {
   "cell_type": "code",
   "execution_count": null,
   "id": "f4d8e8b8",
   "metadata": {},
   "outputs": [],
   "source": []
  },
  {
   "cell_type": "code",
   "execution_count": null,
   "id": "a8fdd4f0",
   "metadata": {},
   "outputs": [],
   "source": []
  },
  {
   "cell_type": "code",
   "execution_count": null,
   "id": "27984e56",
   "metadata": {},
   "outputs": [],
   "source": []
  },
  {
   "cell_type": "code",
   "execution_count": null,
   "id": "8798dde7",
   "metadata": {},
   "outputs": [],
   "source": []
  },
  {
   "cell_type": "code",
   "execution_count": null,
   "id": "412c4330",
   "metadata": {},
   "outputs": [],
   "source": []
  },
  {
   "cell_type": "code",
   "execution_count": null,
   "id": "21ae70f7",
   "metadata": {},
   "outputs": [],
   "source": []
  }
 ],
 "metadata": {
  "kernelspec": {
   "display_name": "env",
   "language": "python",
   "name": "env"
  },
  "language_info": {
   "codemirror_mode": {
    "name": "ipython",
    "version": 3
   },
   "file_extension": ".py",
   "mimetype": "text/x-python",
   "name": "python",
   "nbconvert_exporter": "python",
   "pygments_lexer": "ipython3",
   "version": "3.9.7"
  }
 },
 "nbformat": 4,
 "nbformat_minor": 5
}
