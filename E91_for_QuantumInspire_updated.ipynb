{
 "cells": [
  {
   "cell_type": "code",
   "execution_count": 1,
   "id": "60132ab9",
   "metadata": {},
   "outputs": [],
   "source": [
    "import os\n",
    "from qiskit import execute\n",
    "from qiskit.circuit import QuantumRegister, ClassicalRegister, QuantumCircuit\n",
    "\n",
    "from quantuminspire.credentials import get_authentication\n",
    "from quantuminspire.qiskit import QI\n",
    "\n",
    "QI_URL = os.getenv('API_URL', 'https://api.quantum-inspire.com/')\n",
    "\n",
    "import re"
   ]
  },
  {
   "cell_type": "markdown",
   "id": "9e1108e8",
   "metadata": {},
   "source": [
    "<a id=\"layout\"></a>\n",
    "# 1. Quantum Key Distribution Activity layout\n",
    "\n",
    "In project, we are going to implement the E91 protocol. Steps of the protocol:\n",
    "\n",
    "1. The serves creates a singlet state where one pair corresponds to Alice and other to Bob.\n",
    "2. Alice randomly selects a sequence of measurement basis from Z,X,V and sends it to server\n",
    "3. Bob randomly selects a sequence of measurement basis from W,V,X and sends it to server\n",
    "4. `Intermediate interface function 1`: a MUX that creates a circuit based on Alice and Bob's selection of bases\n",
    "5. `Intermediate interface function 2`: execute the measurement on Quantum Inspire \n",
    "6. `Intermediate interface function 3`: send back measurement results to Alice and Bob\n",
    "7. `ANNOUNCE BASIS`: Alice announces which basis she used to encode each bit, via the classical channel.\n",
    "\n",
    "7. `FIND SYMMETRIC KEY`: Alice and Bob discard bits in their key that used a different basis.\n",
    "\n",
    "These 7 steps allow a key to be distributed between Alice and Bob securely, now the two can send secure and encrypted messages through an insecure channel. \n",
    "\n",
    "In this lab, we will not worry about an eavesdropper, but focus on the code for the basic protocol. Therefore, Alice and Bob don't need to run an analysis step. We can further extend it this to try implementing code for Eve."
   ]
  },
  {
   "cell_type": "code",
   "execution_count": 2,
   "id": "987790b4",
   "metadata": {},
   "outputs": [],
   "source": [
    "import numpy as np\n",
    "import random"
   ]
  },
  {
   "cell_type": "code",
   "execution_count": 3,
   "id": "81c8eb33",
   "metadata": {},
   "outputs": [],
   "source": [
    "# Parameters\n",
    "N_en_pairs = 19\n",
    "alice_seq = [random.randint(1, 3) for i in range(N_en_pairs)]\n",
    "bob_seq = [random.randint(1, 3) for i in range(N_en_pairs)]\n",
    "#alice_seq = [1,2,3,2,1,1]\n",
    "#bob_seq = [2,3,1,2,1,2]"
   ]
  },
  {
   "cell_type": "code",
   "execution_count": null,
   "id": "38d563e2",
   "metadata": {},
   "outputs": [],
   "source": []
  },
  {
   "cell_type": "markdown",
   "id": "e3fe19f5",
   "metadata": {},
   "source": [
    "<a id=\"layout\"></a>\n",
    "## 1. Create entangled states and encode measurement sequence"
   ]
  },
  {
   "cell_type": "code",
   "execution_count": 4,
   "id": "8aafe7a4",
   "metadata": {},
   "outputs": [],
   "source": [
    "Quantum_Circuit = [] # list for storing the quantum circuit for each bit\n",
    "\n",
    "for i in range(N_en_pairs):\n",
    "    Alice_Reg = QuantumRegister(1, name=\"alice\")\n",
    "    Bob_Reg = QuantumRegister(1, name=\"bob\")\n",
    "    cr = ClassicalRegister(2, name=\"cr\")\n",
    "    qc = QuantumCircuit(Alice_Reg, Bob_Reg, cr)\n",
    "    \n",
    "     # Create an entangled pair for Alice and Bob in each loop\n",
    "    qc.x(Alice_Reg)\n",
    "    qc.x(Bob_Reg)\n",
    "    qc.h(Alice_Reg)\n",
    "    qc.cx(Alice_Reg, Bob_Reg)\n",
    "    \n",
    "    # Cicuit Measurement for different bases\n",
    "    \n",
    "    if alice_seq[i]== 1:            #If Alice's random sequence is 1, Alice measures in the Z basis\n",
    "        qc.measure(Alice_Reg,cr[0])  \n",
    "    elif alice_seq[i] == 2:         #If Alice's random sequence is 2, Alice measures in the X basis\n",
    "        qc.h(Alice_Reg)\n",
    "        qc.measure(Alice_Reg,cr[0])\n",
    "    elif alice_seq==3:              #If Alice's random sequence is 3, Alice measures in the V basis (-1/sqrt(2), 0, 1/sqrt(2))\n",
    "        qc.s(Alice_Reg)\n",
    "        qc.h(Alice_Reg)\n",
    "        qc.tdg(Alice_Reg)\n",
    "        qc.h(Alice_Reg)\n",
    "        qc.measure(Alice_Reg, cr[0])\n",
    "        \n",
    "    if bob_seq[i]==1:               #If  Bob's random sequence is 1, Bob measures in the -W basis\n",
    "        qc.s(Bob_Reg)\n",
    "        qc.h(Bob_Reg)\n",
    "        qc.t(Bob_Reg)\n",
    "        qc.h(Bob_Reg)\n",
    "        qc.measure(Bob_Reg, cr[1])\n",
    "    elif bob_seq[i] == 2:           #If  Bob's random sequence is 2, Bob measures in the V basis\n",
    "        qc.s(Bob_Reg)\n",
    "        qc.h(Bob_Reg)\n",
    "        qc.tdg(Bob_Reg)\n",
    "        qc.h(Bob_Reg)\n",
    "        qc.measure(Bob_Reg, cr[1])\n",
    "    elif bob_seq[i] == 3:           #If  Bob's random sequence is 3, Bob measures in the X basis\n",
    "        qc.h(Bob_Reg)\n",
    "        qc.measure(Bob_Reg, cr[1])\n",
    "\n",
    "    \n",
    "    Quantum_Circuit.append(qc)"
   ]
  },
  {
   "cell_type": "code",
   "execution_count": 5,
   "id": "24973f70",
   "metadata": {
    "scrolled": true
   },
   "outputs": [
    {
     "data": {
      "image/png": "[encoded data removed]",
      "text/plain": [
       "<Figure size 650.89x204.68 with 1 Axes>"
      ]
     },
     "execution_count": 5,
     "metadata": {},
     "output_type": "execute_result"
    }
   ],
   "source": [
    "Quantum_Circuit[0].draw(output='mpl')\n"
   ]
  },
  {
   "cell_type": "markdown",
   "id": "8d734149",
   "metadata": {},
   "source": [
    "## To QI"
   ]
  },
  {
   "cell_type": "code",
   "execution_count": 6,
   "id": "81252e9a",
   "metadata": {},
   "outputs": [
    {
     "ename": "ApiError",
     "evalue": "Job with name circuit-2 not created: <Error: 403 Forbidden>\n    detail: \"You already have 20 jobs queued on this backend. Please wait for those jobs to finish or cancel a job.\"",
     "output_type": "error",
     "traceback": [
      "\u001b[1;31m---------------------------------------------------------------------------\u001b[0m",
      "\u001b[1;31mErrorMessage\u001b[0m                              Traceback (most recent call last)",
      "\u001b[1;32mE:\\Anaconda\\lib\\site-packages\\quantuminspire\\api.py\u001b[0m in \u001b[0;36m_create_job\u001b[1;34m(self, name, asset, number_of_shots, backend_type, full_state_projection, user_data)\u001b[0m\n\u001b[0;32m    512\u001b[0m         \u001b[1;32mtry\u001b[0m\u001b[1;33m:\u001b[0m\u001b[1;33m\u001b[0m\u001b[1;33m\u001b[0m\u001b[0m\n\u001b[1;32m--> 513\u001b[1;33m             \u001b[1;32mreturn\u001b[0m \u001b[0mdict\u001b[0m\u001b[1;33m(\u001b[0m\u001b[0mself\u001b[0m\u001b[1;33m.\u001b[0m\u001b[0m_action\u001b[0m\u001b[1;33m(\u001b[0m\u001b[1;33m[\u001b[0m\u001b[1;34m'jobs'\u001b[0m\u001b[1;33m,\u001b[0m \u001b[1;34m'create'\u001b[0m\u001b[1;33m]\u001b[0m\u001b[1;33m,\u001b[0m \u001b[0mparams\u001b[0m\u001b[1;33m=\u001b[0m\u001b[0mpayload\u001b[0m\u001b[1;33m)\u001b[0m\u001b[1;33m)\u001b[0m\u001b[1;33m\u001b[0m\u001b[1;33m\u001b[0m\u001b[0m\n\u001b[0m\u001b[0;32m    514\u001b[0m         \u001b[1;32mexcept\u001b[0m \u001b[1;33m(\u001b[0m\u001b[0mCoreAPIException\u001b[0m\u001b[1;33m,\u001b[0m \u001b[0mTypeError\u001b[0m\u001b[1;33m,\u001b[0m \u001b[0mValueError\u001b[0m\u001b[1;33m)\u001b[0m \u001b[1;32mas\u001b[0m \u001b[0merr_msg\u001b[0m\u001b[1;33m:\u001b[0m\u001b[1;33m\u001b[0m\u001b[1;33m\u001b[0m\u001b[0m\n",
      "\u001b[1;32mE:\\Anaconda\\lib\\site-packages\\quantuminspire\\api.py\u001b[0m in \u001b[0;36m_action\u001b[1;34m(self, action, params)\u001b[0m\n\u001b[0;32m    156\u001b[0m         \"\"\"\n\u001b[1;32m--> 157\u001b[1;33m         \u001b[1;32mreturn\u001b[0m \u001b[0mself\u001b[0m\u001b[1;33m.\u001b[0m\u001b[0m__client\u001b[0m\u001b[1;33m.\u001b[0m\u001b[0maction\u001b[0m\u001b[1;33m(\u001b[0m\u001b[0mself\u001b[0m\u001b[1;33m.\u001b[0m\u001b[0mdocument\u001b[0m\u001b[1;33m,\u001b[0m \u001b[0maction\u001b[0m\u001b[1;33m,\u001b[0m \u001b[0mparams\u001b[0m\u001b[1;33m=\u001b[0m\u001b[0mparams\u001b[0m\u001b[1;33m)\u001b[0m\u001b[1;33m\u001b[0m\u001b[1;33m\u001b[0m\u001b[0m\n\u001b[0m\u001b[0;32m    158\u001b[0m \u001b[1;33m\u001b[0m\u001b[0m\n",
      "\u001b[1;32mE:\\Anaconda\\lib\\site-packages\\coreapi\\client.py\u001b[0m in \u001b[0;36maction\u001b[1;34m(self, document, keys, params, validate, overrides, action, encoding, transform)\u001b[0m\n\u001b[0;32m    177\u001b[0m         \u001b[0mtransport\u001b[0m \u001b[1;33m=\u001b[0m \u001b[0mdetermine_transport\u001b[0m\u001b[1;33m(\u001b[0m\u001b[0mself\u001b[0m\u001b[1;33m.\u001b[0m\u001b[0mtransports\u001b[0m\u001b[1;33m,\u001b[0m \u001b[0mlink\u001b[0m\u001b[1;33m.\u001b[0m\u001b[0murl\u001b[0m\u001b[1;33m)\u001b[0m\u001b[1;33m\u001b[0m\u001b[1;33m\u001b[0m\u001b[0m\n\u001b[1;32m--> 178\u001b[1;33m         \u001b[1;32mreturn\u001b[0m \u001b[0mtransport\u001b[0m\u001b[1;33m.\u001b[0m\u001b[0mtransition\u001b[0m\u001b[1;33m(\u001b[0m\u001b[0mlink\u001b[0m\u001b[1;33m,\u001b[0m \u001b[0mself\u001b[0m\u001b[1;33m.\u001b[0m\u001b[0mdecoders\u001b[0m\u001b[1;33m,\u001b[0m \u001b[0mparams\u001b[0m\u001b[1;33m=\u001b[0m\u001b[0mparams\u001b[0m\u001b[1;33m,\u001b[0m \u001b[0mlink_ancestors\u001b[0m\u001b[1;33m=\u001b[0m\u001b[0mlink_ancestors\u001b[0m\u001b[1;33m)\u001b[0m\u001b[1;33m\u001b[0m\u001b[1;33m\u001b[0m\u001b[0m\n\u001b[0m",
      "\u001b[1;32mE:\\Anaconda\\lib\\site-packages\\coreapi\\transports\\http.py\u001b[0m in \u001b[0;36mtransition\u001b[1;34m(self, link, decoders, params, link_ancestors, force_codec)\u001b[0m\n\u001b[0;32m    385\u001b[0m         \u001b[1;32mif\u001b[0m \u001b[0misinstance\u001b[0m\u001b[1;33m(\u001b[0m\u001b[0mresult\u001b[0m\u001b[1;33m,\u001b[0m \u001b[0mError\u001b[0m\u001b[1;33m)\u001b[0m\u001b[1;33m:\u001b[0m\u001b[1;33m\u001b[0m\u001b[1;33m\u001b[0m\u001b[0m\n\u001b[1;32m--> 386\u001b[1;33m             \u001b[1;32mraise\u001b[0m \u001b[0mexceptions\u001b[0m\u001b[1;33m.\u001b[0m\u001b[0mErrorMessage\u001b[0m\u001b[1;33m(\u001b[0m\u001b[0mresult\u001b[0m\u001b[1;33m)\u001b[0m\u001b[1;33m\u001b[0m\u001b[1;33m\u001b[0m\u001b[0m\n\u001b[0m\u001b[0;32m    387\u001b[0m \u001b[1;33m\u001b[0m\u001b[0m\n",
      "\u001b[1;31mErrorMessage\u001b[0m: <Error: 403 Forbidden>\n    detail: \"You already have 20 jobs queued on this backend. Please wait for those jobs to finish or cancel a job.\"",
      "\nThe above exception was the direct cause of the following exception:\n",
      "\u001b[1;31mApiError\u001b[0m                                  Traceback (most recent call last)",
      "\u001b[1;32m~\\AppData\\Local\\Temp/ipykernel_4168/175224066.py\u001b[0m in \u001b[0;36m<module>\u001b[1;34m\u001b[0m\n\u001b[0;32m      6\u001b[0m \u001b[1;31m# Create an interface between Qiskit and Quantum Inpsire to execute the circuit\u001b[0m\u001b[1;33m\u001b[0m\u001b[1;33m\u001b[0m\u001b[0m\n\u001b[0;32m      7\u001b[0m \u001b[0mqi_backend\u001b[0m \u001b[1;33m=\u001b[0m \u001b[0mQI\u001b[0m\u001b[1;33m.\u001b[0m\u001b[0mget_backend\u001b[0m\u001b[1;33m(\u001b[0m\u001b[1;34m'Starmon-5'\u001b[0m\u001b[1;33m)\u001b[0m\u001b[1;33m\u001b[0m\u001b[1;33m\u001b[0m\u001b[0m\n\u001b[1;32m----> 8\u001b[1;33m \u001b[0mjob\u001b[0m \u001b[1;33m=\u001b[0m \u001b[0mexecute\u001b[0m\u001b[1;33m(\u001b[0m\u001b[0mQuantum_Circuit\u001b[0m\u001b[1;33m,\u001b[0m \u001b[0mqi_backend\u001b[0m\u001b[1;33m,\u001b[0m \u001b[0mshots\u001b[0m \u001b[1;33m=\u001b[0m\u001b[1;36m1\u001b[0m\u001b[1;33m)\u001b[0m\u001b[1;33m\u001b[0m\u001b[1;33m\u001b[0m\u001b[0m\n\u001b[0m",
      "\u001b[1;32mE:\\Anaconda\\lib\\site-packages\\qiskit\\execute_function.py\u001b[0m in \u001b[0;36mexecute\u001b[1;34m(experiments, backend, basis_gates, coupling_map, backend_properties, initial_layout, seed_transpiler, optimization_level, pass_manager, qobj_id, qobj_header, shots, memory, max_credits, seed_simulator, default_qubit_los, default_meas_los, qubit_lo_range, meas_lo_range, schedule_los, meas_level, meas_return, memory_slots, memory_slot_size, rep_time, rep_delay, parameter_binds, schedule_circuit, inst_map, meas_map, scheduling_method, init_qubits, **run_config)\u001b[0m\n\u001b[0;32m    391\u001b[0m             \u001b[0mrun_kwargs\u001b[0m\u001b[1;33m[\u001b[0m\u001b[1;34m\"parameter_binds\"\u001b[0m\u001b[1;33m]\u001b[0m \u001b[1;33m=\u001b[0m \u001b[0mparameter_binds\u001b[0m\u001b[1;33m\u001b[0m\u001b[1;33m\u001b[0m\u001b[0m\n\u001b[0;32m    392\u001b[0m         \u001b[0mrun_kwargs\u001b[0m\u001b[1;33m.\u001b[0m\u001b[0mupdate\u001b[0m\u001b[1;33m(\u001b[0m\u001b[0mrun_config\u001b[0m\u001b[1;33m)\u001b[0m\u001b[1;33m\u001b[0m\u001b[1;33m\u001b[0m\u001b[0m\n\u001b[1;32m--> 393\u001b[1;33m         \u001b[0mjob\u001b[0m \u001b[1;33m=\u001b[0m \u001b[0mbackend\u001b[0m\u001b[1;33m.\u001b[0m\u001b[0mrun\u001b[0m\u001b[1;33m(\u001b[0m\u001b[0mexperiments\u001b[0m\u001b[1;33m,\u001b[0m \u001b[1;33m**\u001b[0m\u001b[0mrun_kwargs\u001b[0m\u001b[1;33m)\u001b[0m\u001b[1;33m\u001b[0m\u001b[1;33m\u001b[0m\u001b[0m\n\u001b[0m\u001b[0;32m    394\u001b[0m         \u001b[0mend_time\u001b[0m \u001b[1;33m=\u001b[0m \u001b[0mtime\u001b[0m\u001b[1;33m(\u001b[0m\u001b[1;33m)\u001b[0m\u001b[1;33m\u001b[0m\u001b[1;33m\u001b[0m\u001b[0m\n\u001b[0;32m    395\u001b[0m         \u001b[0m_log_submission_time\u001b[0m\u001b[1;33m(\u001b[0m\u001b[0mstart_time\u001b[0m\u001b[1;33m,\u001b[0m \u001b[0mend_time\u001b[0m\u001b[1;33m)\u001b[0m\u001b[1;33m\u001b[0m\u001b[1;33m\u001b[0m\u001b[0m\n",
      "\u001b[1;32mE:\\Anaconda\\lib\\site-packages\\quantuminspire\\qiskit\\backend_qx.py\u001b[0m in \u001b[0;36mrun\u001b[1;34m(self, circuits, shots, memory, **run_config)\u001b[0m\n\u001b[0;32m    189\u001b[0m             \u001b[1;32mif\u001b[0m \u001b[0mproject\u001b[0m \u001b[1;32mis\u001b[0m \u001b[1;32mnot\u001b[0m \u001b[1;32mNone\u001b[0m\u001b[1;33m:\u001b[0m\u001b[1;33m\u001b[0m\u001b[1;33m\u001b[0m\u001b[0m\n\u001b[0;32m    190\u001b[0m                 \u001b[0mself\u001b[0m\u001b[1;33m.\u001b[0m\u001b[0m__api\u001b[0m\u001b[1;33m.\u001b[0m\u001b[0mdelete_project\u001b[0m\u001b[1;33m(\u001b[0m\u001b[0mint\u001b[0m\u001b[1;33m(\u001b[0m\u001b[0mproject\u001b[0m\u001b[1;33m[\u001b[0m\u001b[1;34m'id'\u001b[0m\u001b[1;33m]\u001b[0m\u001b[1;33m)\u001b[0m\u001b[1;33m)\u001b[0m\u001b[1;33m\u001b[0m\u001b[1;33m\u001b[0m\u001b[0m\n\u001b[1;32m--> 191\u001b[1;33m             \u001b[1;32mraise\u001b[0m \u001b[0merror\u001b[0m\u001b[1;33m\u001b[0m\u001b[1;33m\u001b[0m\u001b[0m\n\u001b[0m\u001b[0;32m    192\u001b[0m \u001b[1;33m\u001b[0m\u001b[0m\n\u001b[0;32m    193\u001b[0m         \u001b[0mjob\u001b[0m\u001b[1;33m.\u001b[0m\u001b[0mexperiments\u001b[0m \u001b[1;33m=\u001b[0m \u001b[0mexperiments\u001b[0m\u001b[1;33m\u001b[0m\u001b[1;33m\u001b[0m\u001b[0m\n",
      "\u001b[1;32mE:\\Anaconda\\lib\\site-packages\\quantuminspire\\qiskit\\backend_qx.py\u001b[0m in \u001b[0;36mrun\u001b[1;34m(self, circuits, shots, memory, **run_config)\u001b[0m\n\u001b[0;32m    178\u001b[0m                 \u001b[1;32mif\u001b[0m \u001b[1;32mnot\u001b[0m \u001b[0mfull_state_projection\u001b[0m\u001b[1;33m:\u001b[0m\u001b[1;33m\u001b[0m\u001b[1;33m\u001b[0m\u001b[0m\n\u001b[0;32m    179\u001b[0m                     \u001b[0mQuantumInspireBackend\u001b[0m\u001b[1;33m.\u001b[0m\u001b[0m__validate_unsupported_measurements\u001b[0m\u001b[1;33m(\u001b[0m\u001b[0mexperiment\u001b[0m\u001b[1;33m)\u001b[0m\u001b[1;33m\u001b[0m\u001b[1;33m\u001b[0m\u001b[0m\n\u001b[1;32m--> 180\u001b[1;33m                 job_for_experiment = self._submit_experiment(experiment, number_of_shots, project=project,\n\u001b[0m\u001b[0;32m    181\u001b[0m                                                              full_state_projection=full_state_projection)\n\u001b[0;32m    182\u001b[0m                 \u001b[0mjob\u001b[0m\u001b[1;33m.\u001b[0m\u001b[0madd_job\u001b[0m\u001b[1;33m(\u001b[0m\u001b[0mjob_for_experiment\u001b[0m\u001b[1;33m)\u001b[0m\u001b[1;33m\u001b[0m\u001b[1;33m\u001b[0m\u001b[0m\n",
      "\u001b[1;32mE:\\Anaconda\\lib\\site-packages\\quantuminspire\\qiskit\\backend_qx.py\u001b[0m in \u001b[0;36m_submit_experiment\u001b[1;34m(self, experiment, number_of_shots, project, full_state_projection)\u001b[0m\n\u001b[0;32m    253\u001b[0m         user_data = {'name': experiment.header.name, 'memory_slots': experiment.header.memory_slots,\n\u001b[0;32m    254\u001b[0m                      'creg_sizes': experiment.header.creg_sizes, 'measurements': measurements}\n\u001b[1;32m--> 255\u001b[1;33m         quantum_inspire_job = self.__api.execute_qasm_async(compiled_qasm, backend_type=self.__backend,\n\u001b[0m\u001b[0;32m    256\u001b[0m                                                             \u001b[0mnumber_of_shots\u001b[0m\u001b[1;33m=\u001b[0m\u001b[0mnumber_of_shots\u001b[0m\u001b[1;33m,\u001b[0m \u001b[0mproject\u001b[0m\u001b[1;33m=\u001b[0m\u001b[0mproject\u001b[0m\u001b[1;33m,\u001b[0m\u001b[1;33m\u001b[0m\u001b[1;33m\u001b[0m\u001b[0m\n\u001b[0;32m    257\u001b[0m                                                             \u001b[0mjob_name\u001b[0m\u001b[1;33m=\u001b[0m\u001b[0mexperiment\u001b[0m\u001b[1;33m.\u001b[0m\u001b[0mheader\u001b[0m\u001b[1;33m.\u001b[0m\u001b[0mname\u001b[0m\u001b[1;33m,\u001b[0m\u001b[1;33m\u001b[0m\u001b[1;33m\u001b[0m\u001b[0m\n",
      "\u001b[1;32mE:\\Anaconda\\lib\\site-packages\\quantuminspire\\api.py\u001b[0m in \u001b[0;36mexecute_qasm_async\u001b[1;34m(self, qasm, backend_type, number_of_shots, default_number_of_shots, identifier, full_state_projection, project, job_name, user_data)\u001b[0m\n\u001b[0;32m   1019\u001b[0m         \u001b[1;32mif\u001b[0m \u001b[0mnumber_of_shots\u001b[0m \u001b[1;32mis\u001b[0m \u001b[1;32mNone\u001b[0m\u001b[1;33m:\u001b[0m\u001b[1;33m\u001b[0m\u001b[1;33m\u001b[0m\u001b[0m\n\u001b[0;32m   1020\u001b[0m             \u001b[0mnumber_of_shots\u001b[0m \u001b[1;33m=\u001b[0m \u001b[0mbackend_type\u001b[0m\u001b[1;33m[\u001b[0m\u001b[1;34m'default_number_of_shots'\u001b[0m\u001b[1;33m]\u001b[0m\u001b[1;33m\u001b[0m\u001b[1;33m\u001b[0m\u001b[0m\n\u001b[1;32m-> 1021\u001b[1;33m         job = self._create_job(job_name, asset, number_of_shots, backend_type, user_data=user_data,\n\u001b[0m\u001b[0;32m   1022\u001b[0m                                full_state_projection=full_state_projection)\n\u001b[0;32m   1023\u001b[0m \u001b[1;33m\u001b[0m\u001b[0m\n",
      "\u001b[1;32mE:\\Anaconda\\lib\\site-packages\\quantuminspire\\api.py\u001b[0m in \u001b[0;36m_create_job\u001b[1;34m(self, name, asset, number_of_shots, backend_type, full_state_projection, user_data)\u001b[0m\n\u001b[0;32m    513\u001b[0m             \u001b[1;32mreturn\u001b[0m \u001b[0mdict\u001b[0m\u001b[1;33m(\u001b[0m\u001b[0mself\u001b[0m\u001b[1;33m.\u001b[0m\u001b[0m_action\u001b[0m\u001b[1;33m(\u001b[0m\u001b[1;33m[\u001b[0m\u001b[1;34m'jobs'\u001b[0m\u001b[1;33m,\u001b[0m \u001b[1;34m'create'\u001b[0m\u001b[1;33m]\u001b[0m\u001b[1;33m,\u001b[0m \u001b[0mparams\u001b[0m\u001b[1;33m=\u001b[0m\u001b[0mpayload\u001b[0m\u001b[1;33m)\u001b[0m\u001b[1;33m)\u001b[0m\u001b[1;33m\u001b[0m\u001b[1;33m\u001b[0m\u001b[0m\n\u001b[0;32m    514\u001b[0m         \u001b[1;32mexcept\u001b[0m \u001b[1;33m(\u001b[0m\u001b[0mCoreAPIException\u001b[0m\u001b[1;33m,\u001b[0m \u001b[0mTypeError\u001b[0m\u001b[1;33m,\u001b[0m \u001b[0mValueError\u001b[0m\u001b[1;33m)\u001b[0m \u001b[1;32mas\u001b[0m \u001b[0merr_msg\u001b[0m\u001b[1;33m:\u001b[0m\u001b[1;33m\u001b[0m\u001b[1;33m\u001b[0m\u001b[0m\n\u001b[1;32m--> 515\u001b[1;33m             \u001b[1;32mraise\u001b[0m \u001b[0mApiError\u001b[0m\u001b[1;33m(\u001b[0m\u001b[1;34mf'Job with name {name} not created: {err_msg}'\u001b[0m\u001b[1;33m)\u001b[0m \u001b[1;32mfrom\u001b[0m \u001b[0merr_msg\u001b[0m\u001b[1;33m\u001b[0m\u001b[1;33m\u001b[0m\u001b[0m\n\u001b[0m\u001b[0;32m    516\u001b[0m \u001b[1;33m\u001b[0m\u001b[0m\n\u001b[0;32m    517\u001b[0m     \u001b[1;31m#  results  #\u001b[0m\u001b[1;33m\u001b[0m\u001b[1;33m\u001b[0m\u001b[0m\n",
      "\u001b[1;31mApiError\u001b[0m: Job with name circuit-2 not created: <Error: 403 Forbidden>\n    detail: \"You already have 20 jobs queued on this backend. Please wait for those jobs to finish or cancel a job.\""
     ]
    }
   ],
   "source": [
    "from quantuminspire.credentials import save_account\n",
    "save_account('35ef5a0ed17d10ac317893831724a209e47815a5')\n",
    "project_name = 'E91_test_hardware'\n",
    "authentication = get_authentication()\n",
    "QI.set_authentication(authentication, QI_URL, project_name=project_name)\n",
    "# Create an interface between Qiskit and Quantum Inpsire to execute the circuit\n",
    "qi_backend = QI.get_backend('Starmon-5')\n",
    "job = execute(Quantum_Circuit, qi_backend, shots =1)"
   ]
  },
  {
   "cell_type": "code",
   "execution_count": null,
   "id": "0517433d",
   "metadata": {},
   "outputs": [],
   "source": [
    "results = job.result()\n",
    "counts = results.get_counts()"
   ]
  },
  {
   "cell_type": "code",
   "execution_count": null,
   "id": "7ecd52ae",
   "metadata": {},
   "outputs": [],
   "source": [
    "abPatterns = [\n",
    "    re.compile('00'), # search for the '..00' output (Alice obtained -1 and Bob obtained -1)\n",
    "    re.compile('01'), # search for the '..01' output\n",
    "    re.compile('10'), # search for the '..10' output (Alice obtained -1 and Bob obtained 1)\n",
    "    re.compile('11')  # search for the '..11' output\n",
    "]"
   ]
  },
  {
   "cell_type": "markdown",
   "id": "3d6d8dd5",
   "metadata": {},
   "source": [
    "### Alices and Bobs measurement result"
   ]
  },
  {
   "cell_type": "code",
   "execution_count": null,
   "id": "5f980232",
   "metadata": {},
   "outputs": [],
   "source": [
    "aliceResults = [] # Alice's results (string a)\n",
    "bobResults = [] # Bob's results (string a')\n",
    "\n",
    "for i in range(N_en_pairs):\n",
    "\n",
    "    res = list(counts[i].keys())[0] # extract the key from the dict and transform it to str; execution result of the i-th circuit\n",
    "    \n",
    "    if abPatterns[0].search(res): # check if the key is '..00' (if the measurement results are -1,-1)\n",
    "        aliceResults.append(-1) # Alice got the result -1 \n",
    "        bobResults.append(-1) # Bob got the result -1\n",
    "    if abPatterns[1].search(res):\n",
    "        aliceResults.append(1)\n",
    "        bobResults.append(-1)\n",
    "    if abPatterns[2].search(res): # check if the key is '..10' (if the measurement results are -1,1)\n",
    "        aliceResults.append(-1) # Alice got the result -1 \n",
    "        bobResults.append(1) # Bob got the result 1\n",
    "    if abPatterns[3].search(res): \n",
    "        aliceResults.append(1)\n",
    "        bobResults.append(1)"
   ]
  },
  {
   "cell_type": "markdown",
   "id": "77b02e4c",
   "metadata": {},
   "source": [
    "### Key Generation"
   ]
  },
  {
   "cell_type": "code",
   "execution_count": null,
   "id": "3bc0e8b1",
   "metadata": {},
   "outputs": [],
   "source": [
    "aliceKey = [] # Alice's key string k\n",
    "bobKey = [] # Bob's key string k'\n",
    "\n",
    "# comparing the strings with measurement choices\n",
    "for i in range(N_en_pairs):\n",
    "    # if Alice and Bob have measured the spin projections onto the a_2/b_3 or a_3/b_2 directions\n",
    "    if (alice_seq[i] == 2 and bob_seq[i] == 3) or (alice_seq[i] == 3 and bob_seq[i] == 2):\n",
    "        aliceKey.append(aliceResults[i-1]) # record the i-th result obtained by Alice as the bit of the secret key k\n",
    "        bobKey.append(- bobResults[i-1]) # record the multiplied by -1 i-th result obtained Bob as the bit of the secret key k'\n",
    "        print(i)\n",
    "        \n",
    "keyLength = len(aliceKey) # length of the secret key"
   ]
  },
  {
   "cell_type": "code",
   "execution_count": null,
   "id": "160566d7",
   "metadata": {},
   "outputs": [],
   "source": [
    "abKeyMismatches = 0 # number of mismatching bits in Alice's and Bob's keys\n",
    "\n",
    "for j in range(keyLength):\n",
    "    if aliceKey[j] != bobKey[j]:\n",
    "        abKeyMismatches += 1"
   ]
  },
  {
   "cell_type": "code",
   "execution_count": null,
   "id": "0b91e9e9",
   "metadata": {},
   "outputs": [],
   "source": []
  },
  {
   "cell_type": "code",
   "execution_count": null,
   "id": "61ab1187",
   "metadata": {},
   "outputs": [],
   "source": [
    "bobKey"
   ]
  },
  {
   "cell_type": "code",
   "execution_count": null,
   "id": "e2deb545",
   "metadata": {},
   "outputs": [],
   "source": [
    "aliceKey"
   ]
  },
  {
   "cell_type": "code",
   "execution_count": null,
   "id": "fad0953e",
   "metadata": {},
   "outputs": [],
   "source": [
    "abKeyMismatches"
   ]
  },
  {
   "cell_type": "code",
   "execution_count": null,
   "id": "dcddae0f",
   "metadata": {},
   "outputs": [],
   "source": [
    "aliceResults"
   ]
  },
  {
   "cell_type": "code",
   "execution_count": null,
   "id": "5229e2da",
   "metadata": {},
   "outputs": [],
   "source": [
    "bobResults"
   ]
  },
  {
   "cell_type": "code",
   "execution_count": null,
   "id": "86926057",
   "metadata": {},
   "outputs": [],
   "source": [
    "alice_seq"
   ]
  },
  {
   "cell_type": "code",
   "execution_count": null,
   "id": "02bca076",
   "metadata": {},
   "outputs": [],
   "source": [
    "bob_seq"
   ]
  },
  {
   "cell_type": "code",
   "execution_count": null,
   "id": "e5da64fc",
   "metadata": {},
   "outputs": [],
   "source": []
  },
  {
   "cell_type": "code",
   "execution_count": null,
   "id": "6b899d75",
   "metadata": {},
   "outputs": [],
   "source": []
  }
 ],
 "metadata": {
  "kernelspec": {
   "display_name": "Python 3 (ipykernel)",
   "language": "python",
   "name": "python3"
  },
  "language_info": {
   "codemirror_mode": {
    "name": "ipython",
    "version": 3
   },
   "file_extension": ".py",
   "mimetype": "text/x-python",
   "name": "python",
   "nbconvert_exporter": "python",
   "pygments_lexer": "ipython3",
   "version": "3.9.7"
  }
 },
 "nbformat": 4,
 "nbformat_minor": 5
}
