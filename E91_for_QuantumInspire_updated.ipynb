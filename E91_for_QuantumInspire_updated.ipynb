{
 "cells": [
  {
   "cell_type": "markdown",
   "id": "816a0a41",
   "metadata": {},
   "source": [
    "### Demonstration of Quantum Key Distribution with the Ekert 91 Protocol\n",
    "\n",
    "Algorithm -\n",
    "1. First generate the a maximally entangled qubit pair |psi+> = 1/root(2) * (|01> + |10>)\n",
    "2. Send one qubit to Alice and one qubit to Bob\n",
    "3. Both Alice and Bob perform their measurement and make the measurement bases public.\n",
    "4. According to the new information obtained, a sifted key is created, which can be used for secure communication\n",
    "\n",
    "Modification to this Algorithm (because we get only 1 quantum computer) -\n",
    "1. First generate the a maximally entangled qubit pair |psi+> = 1/root(2) * (|01> + |10>)\n",
    "2. Take the measurement bases from Alice and Bob\n",
    "3. Perform measurement, and send the measurement results to Alice and Bob respectively\n",
    "4. Note that Alice and Bob do not have each other's measurement outcomes, they have only theirs\n",
    "5. The measurement bases are made public, and the sifted key is obtained"
   ]
  },
  {
   "cell_type": "code",
   "execution_count": 9,
   "id": "60132ab9",
   "metadata": {},
   "outputs": [
    {
     "name": "stdout",
     "output_type": "stream",
     "text": [
      "Process Complete!\n"
     ]
    }
   ],
   "source": [
    "import os\n",
    "from qiskit import execute\n",
    "from qiskit.circuit import QuantumRegister, ClassicalRegister, QuantumCircuit\n",
    "\n",
    "from quantuminspire.credentials import get_authentication, enable_account\n",
    "from quantuminspire.qiskit import QI\n",
    "import re \n",
    "from apikey import token\n",
    "\n",
    "import numpy as np\n",
    "import random\n",
    "print(\"Process Complete!\")"
   ]
  },
  {
   "cell_type": "markdown",
   "id": "9e1108e8",
   "metadata": {},
   "source": [
    "<a id=\"layout\"></a>\n",
    "# 1. Quantum Key Distribution Activity layout\n",
    "\n",
    "In project, we are going to implement the E91 protocol. Steps of the protocol:\n",
    "\n",
    "1. The serves creates a singlet state where one pair corresponds to Alice and other to Bob.\n",
    "2. Alice randomly selects a sequence of measurement basis from Z,X,V and sends it to server\n",
    "3. Bob randomly selects a sequence of measurement basis from W,V,X and sends it to server\n",
    "4. `Intermediate interface function 1`: a MUX that creates a circuit based on Alice and Bob's selection of bases\n",
    "5. `Intermediate interface function 2`: execute the measurement on Quantum Inspire \n",
    "6. `Intermediate interface function 3`: send back measurement results to Alice and Bob\n",
    "7. `ANNOUNCE BASIS`: Alice announces which basis she used to encode each bit, via the classical channel.\n",
    "\n",
    "7. `FIND SYMMETRIC KEY`: Alice and Bob discard bits in their key that used a different basis.\n",
    "\n",
    "These 7 steps allow a key to be distributed between Alice and Bob securely, now the two can send secure and encrypted messages through an insecure channel. \n",
    "\n",
    "In this lab, we will not worry about an eavesdropper, but focus on the code for the basic protocol. Therefore, Alice and Bob don't need to run an analysis step. We can further extend it this to try implementing code for Eve."
   ]
  },
  {
   "cell_type": "code",
   "execution_count": 10,
   "id": "81c8eb33",
   "metadata": {},
   "outputs": [
    {
     "name": "stdout",
     "output_type": "stream",
     "text": [
      "Process Complete!\n"
     ]
    }
   ],
   "source": [
    "# Init\n",
    "N_en_pairs = 10\n",
    "alice_seq = [random.randint(1, 3) for i in range(N_en_pairs)]\n",
    "bob_seq = [random.randint(1, 3) for i in range(N_en_pairs)]\n",
    "print(\"Process Complete!\")"
   ]
  },
  {
   "cell_type": "markdown",
   "id": "e3fe19f5",
   "metadata": {},
   "source": [
    "<a id=\"layout\"></a>\n",
    "## 1. Create entangled states and encode measurement sequence"
   ]
  },
  {
   "cell_type": "code",
   "execution_count": 4,
   "id": "8aafe7a4",
   "metadata": {},
   "outputs": [],
   "source": [
    "Quantum_Circuit = [] # list for storing the quantum circuit for each bit\n",
    "\n",
    "for i in range(N_en_pairs):\n",
    "    Alice_Reg = QuantumRegister(1, name=\"alice\")\n",
    "    Bob_Reg = QuantumRegister(1, name=\"bob\")\n",
    "    cr = ClassicalRegister(2, name=\"cr\")\n",
    "    qc = QuantumCircuit(Alice_Reg, Bob_Reg, cr)\n",
    "    \n",
    "    q = QuantumRegister(2)\n",
    "    b = ClassicalRegister(2)\n",
    "    qc = QuantumCircuit(q, b)\n",
    "    \n",
    "    # Create an entangled pair for Alice and Bob in each loop\n",
    "    qc.x(Alice_Reg)\n",
    "    qc.x(Bob_Reg)\n",
    "    qc.h(Alice_Reg)\n",
    "    qc.cx(Alice_Reg, Bob_Reg)\n",
    "    \n",
    "    # Cicuit Measurement for different bases\n",
    "    \n",
    "    if alice_seq[i]== 1:            #If Alice's random sequence is 1, Alice measures in the Z basis\n",
    "        qc.measure(Alice_Reg,cr[0])  \n",
    "    elif alice_seq[i] == 2:         #If Alice's random sequence is 2, Alice measures in the X basis\n",
    "        qc.h(Alice_Reg)\n",
    "        qc.measure(Alice_Reg,cr[0])\n",
    "    elif alice_seq==3:              #If Alice's random sequence is 3, Alice measures in the V basis (-1/sqrt(2), 0, 1/sqrt(2))\n",
    "        qc.s(Alice_Reg)\n",
    "        qc.h(Alice_Reg)\n",
    "        qc.tdg(Alice_Reg)\n",
    "        qc.h(Alice_Reg)\n",
    "        qc.measure(Alice_Reg, cr[0])\n",
    "        \n",
    "    if bob_seq[i]==1:               #If  Bob's random sequence is 1, Bob measures in the -W basis\n",
    "        qc.s(Bob_Reg)\n",
    "        qc.h(Bob_Reg)\n",
    "        qc.t(Bob_Reg)\n",
    "        qc.h(Bob_Reg)\n",
    "        qc.measure(Bob_Reg, cr[1])\n",
    "    elif bob_seq[i] == 2:           #If  Bob's random sequence is 2, Bob measures in the V basis\n",
    "        qc.s(Bob_Reg)\n",
    "        qc.h(Bob_Reg)\n",
    "        qc.tdg(Bob_Reg)\n",
    "        qc.h(Bob_Reg)\n",
    "        qc.measure(Bob_Reg, cr[1])\n",
    "    elif bob_seq[i] == 3:           #If  Bob's random sequence is 3, Bob measures in the X basis\n",
    "        qc.h(Bob_Reg)\n",
    "        qc.measure(Bob_Reg, cr[1])\n",
    "\n",
    "    \n",
    "    Quantum_Circuit.append(qc)"
   ]
  },
  {
   "cell_type": "code",
   "execution_count": 5,
   "id": "24973f70",
   "metadata": {
    "scrolled": true
   },
   "outputs": [
    {
     "data": {
      "image/png": "[encoded data removed]",
      "text/plain": [
       "<Figure size 650.89x204.68 with 1 Axes>"
      ]
     },
     "execution_count": 5,
     "metadata": {},
     "output_type": "execute_result"
    }
   ],
   "source": [
    "Quantum_Circuit[0].draw(output='mpl')\n"
   ]
  },
  {
   "cell_type": "markdown",
   "id": "8d734149",
   "metadata": {},
   "source": [
    "## To QI"
   ]
  },
  {
   "cell_type": "code",
   "execution_count": 6,
   "id": "81252e9a",
   "metadata": {},
   "outputs": [],
   "source": [
    "\n",
    "enable_account(token)\n",
    "project_name = 'E91_test_hardware'\n",
    "authentication = get_authentication()\n",
    "QI.set_authentication(authentication, QI_URL, project_name=project_name)\n",
    "# Create an interface between Qiskit and Quantum Inpsire to execute the circuit\n",
    "qi_backend = QI.get_backend('Starmon-5')\n",
    "job = execute(Quantum_Circuit, qi_backend, shots = 1)"
   ]
  },
  {
   "cell_type": "code",
   "execution_count": 7,
   "id": "0517433d",
   "metadata": {},
   "outputs": [
    {
     "ename": "ApiError",
     "evalue": "Job with id 7127017 does not exist!",
     "output_type": "error",
     "traceback": [
      "\u001b[1;31m---------------------------------------------------------------------------\u001b[0m",
      "\u001b[1;31mErrorMessage\u001b[0m                              Traceback (most recent call last)",
      "File \u001b[1;32mD:\\Desktop\\iQuHack\\Q-Sup\\env\\lib\\site-packages\\quantuminspire\\api.py:415\u001b[0m, in \u001b[0;36mQuantumInspireAPI.get_job\u001b[1;34m(self, job_id)\u001b[0m\n\u001b[0;32m    414\u001b[0m \u001b[38;5;28;01mtry\u001b[39;00m:\n\u001b[1;32m--> 415\u001b[0m     job \u001b[38;5;241m=\u001b[39m \u001b[38;5;28;43mself\u001b[39;49m\u001b[38;5;241;43m.\u001b[39;49m\u001b[43m_action\u001b[49m\u001b[43m(\u001b[49m\u001b[43m[\u001b[49m\u001b[38;5;124;43m'\u001b[39;49m\u001b[38;5;124;43mjobs\u001b[39;49m\u001b[38;5;124;43m'\u001b[39;49m\u001b[43m,\u001b[49m\u001b[43m \u001b[49m\u001b[38;5;124;43m'\u001b[39;49m\u001b[38;5;124;43mread\u001b[39;49m\u001b[38;5;124;43m'\u001b[39;49m\u001b[43m]\u001b[49m\u001b[43m,\u001b[49m\u001b[43m \u001b[49m\u001b[43mparams\u001b[49m\u001b[38;5;241;43m=\u001b[39;49m\u001b[43m{\u001b[49m\u001b[38;5;124;43m'\u001b[39;49m\u001b[38;5;124;43mid\u001b[39;49m\u001b[38;5;124;43m'\u001b[39;49m\u001b[43m:\u001b[49m\u001b[43m \u001b[49m\u001b[43mjob_id\u001b[49m\u001b[43m}\u001b[49m\u001b[43m)\u001b[49m\n\u001b[0;32m    416\u001b[0m \u001b[38;5;28;01mexcept\u001b[39;00m ErrorMessage \u001b[38;5;28;01mas\u001b[39;00m err_msg:\n",
      "File \u001b[1;32mD:\\Desktop\\iQuHack\\Q-Sup\\env\\lib\\site-packages\\quantuminspire\\api.py:157\u001b[0m, in \u001b[0;36mQuantumInspireAPI._action\u001b[1;34m(self, action, params)\u001b[0m\n\u001b[0;32m    141\u001b[0m \u001b[38;5;124;03m\"\"\" Adapter for performing an action on an object via the Quantum Inspire API.\u001b[39;00m\n\u001b[0;32m    142\u001b[0m \n\u001b[0;32m    143\u001b[0m \u001b[38;5;124;03m:param action: Path in the schema hierarchy selecting the requested action.\u001b[39;00m\n\u001b[1;32m   (...)\u001b[0m\n\u001b[0;32m    155\u001b[0m \u001b[38;5;124;03m    Can be None when there is no content in the response.\u001b[39;00m\n\u001b[0;32m    156\u001b[0m \u001b[38;5;124;03m\"\"\"\u001b[39;00m\n\u001b[1;32m--> 157\u001b[0m \u001b[38;5;28;01mreturn\u001b[39;00m \u001b[38;5;28;43mself\u001b[39;49m\u001b[38;5;241;43m.\u001b[39;49m\u001b[43m__client\u001b[49m\u001b[38;5;241;43m.\u001b[39;49m\u001b[43maction\u001b[49m\u001b[43m(\u001b[49m\u001b[38;5;28;43mself\u001b[39;49m\u001b[38;5;241;43m.\u001b[39;49m\u001b[43mdocument\u001b[49m\u001b[43m,\u001b[49m\u001b[43m \u001b[49m\u001b[43maction\u001b[49m\u001b[43m,\u001b[49m\u001b[43m \u001b[49m\u001b[43mparams\u001b[49m\u001b[38;5;241;43m=\u001b[39;49m\u001b[43mparams\u001b[49m\u001b[43m)\u001b[49m\n",
      "File \u001b[1;32mD:\\Desktop\\iQuHack\\Q-Sup\\env\\lib\\site-packages\\coreapi\\client.py:178\u001b[0m, in \u001b[0;36mClient.action\u001b[1;34m(self, document, keys, params, validate, overrides, action, encoding, transform)\u001b[0m\n\u001b[0;32m    177\u001b[0m transport \u001b[38;5;241m=\u001b[39m determine_transport(\u001b[38;5;28mself\u001b[39m\u001b[38;5;241m.\u001b[39mtransports, link\u001b[38;5;241m.\u001b[39murl)\n\u001b[1;32m--> 178\u001b[0m \u001b[38;5;28;01mreturn\u001b[39;00m \u001b[43mtransport\u001b[49m\u001b[38;5;241;43m.\u001b[39;49m\u001b[43mtransition\u001b[49m\u001b[43m(\u001b[49m\u001b[43mlink\u001b[49m\u001b[43m,\u001b[49m\u001b[43m \u001b[49m\u001b[38;5;28;43mself\u001b[39;49m\u001b[38;5;241;43m.\u001b[39;49m\u001b[43mdecoders\u001b[49m\u001b[43m,\u001b[49m\u001b[43m \u001b[49m\u001b[43mparams\u001b[49m\u001b[38;5;241;43m=\u001b[39;49m\u001b[43mparams\u001b[49m\u001b[43m,\u001b[49m\u001b[43m \u001b[49m\u001b[43mlink_ancestors\u001b[49m\u001b[38;5;241;43m=\u001b[39;49m\u001b[43mlink_ancestors\u001b[49m\u001b[43m)\u001b[49m\n",
      "File \u001b[1;32mD:\\Desktop\\iQuHack\\Q-Sup\\env\\lib\\site-packages\\coreapi\\transports\\http.py:386\u001b[0m, in \u001b[0;36mHTTPTransport.transition\u001b[1;34m(self, link, decoders, params, link_ancestors, force_codec)\u001b[0m\n\u001b[0;32m    385\u001b[0m \u001b[38;5;28;01mif\u001b[39;00m \u001b[38;5;28misinstance\u001b[39m(result, Error):\n\u001b[1;32m--> 386\u001b[0m     \u001b[38;5;28;01mraise\u001b[39;00m exceptions\u001b[38;5;241m.\u001b[39mErrorMessage(result)\n\u001b[0;32m    388\u001b[0m \u001b[38;5;28;01mreturn\u001b[39;00m result\n",
      "\u001b[1;31mErrorMessage\u001b[0m: <Error: 404 Not Found>\n    detail: \"Not found.\"",
      "\nThe above exception was the direct cause of the following exception:\n",
      "\u001b[1;31mApiError\u001b[0m                                  Traceback (most recent call last)",
      "Input \u001b[1;32mIn [7]\u001b[0m, in \u001b[0;36m<module>\u001b[1;34m\u001b[0m\n\u001b[1;32m----> 1\u001b[0m results \u001b[38;5;241m=\u001b[39m \u001b[43mjob\u001b[49m\u001b[38;5;241;43m.\u001b[39;49m\u001b[43mresult\u001b[49m\u001b[43m(\u001b[49m\u001b[43m)\u001b[49m\n\u001b[0;32m      2\u001b[0m counts \u001b[38;5;241m=\u001b[39m results\u001b[38;5;241m.\u001b[39mget_counts()\n",
      "File \u001b[1;32mD:\\Desktop\\iQuHack\\Q-Sup\\env\\lib\\site-packages\\quantuminspire\\qiskit\\qi_job.py:151\u001b[0m, in \u001b[0;36mQIJob.result\u001b[1;34m(self, timeout, wait)\u001b[0m\n\u001b[0;32m    139\u001b[0m \u001b[38;5;28;01mdef\u001b[39;00m \u001b[38;5;21mresult\u001b[39m(\u001b[38;5;28mself\u001b[39m, timeout: Optional[\u001b[38;5;28mfloat\u001b[39m] \u001b[38;5;241m=\u001b[39m \u001b[38;5;28;01mNone\u001b[39;00m, wait: \u001b[38;5;28mfloat\u001b[39m \u001b[38;5;241m=\u001b[39m \u001b[38;5;241m0.5\u001b[39m) \u001b[38;5;241m-\u001b[39m\u001b[38;5;241m>\u001b[39m QIResult:\n\u001b[0;32m    140\u001b[0m     \u001b[38;5;124;03m\"\"\" Return the result for the experiments in the latest run for this project.\u001b[39;00m\n\u001b[0;32m    141\u001b[0m \n\u001b[0;32m    142\u001b[0m \u001b[38;5;124;03m    :param timeout: Timeout in seconds.\u001b[39;00m\n\u001b[1;32m   (...)\u001b[0m\n\u001b[0;32m    149\u001b[0m \u001b[38;5;124;03m    :raises QiskitBackendError: If an error occurs during simulation.\u001b[39;00m\n\u001b[0;32m    150\u001b[0m \u001b[38;5;124;03m    \"\"\"\u001b[39;00m\n\u001b[1;32m--> 151\u001b[0m     \u001b[38;5;28;01mreturn\u001b[39;00m \u001b[38;5;28;43mself\u001b[39;49m\u001b[38;5;241;43m.\u001b[39;49m\u001b[43m_result\u001b[49m\u001b[43m(\u001b[49m\u001b[38;5;28;43mself\u001b[39;49m\u001b[38;5;241;43m.\u001b[39;49m\u001b[43m_backend\u001b[49m\u001b[38;5;241;43m.\u001b[39;49m\u001b[43mget_experiment_results_from_latest_run\u001b[49m\u001b[43m,\u001b[49m\u001b[43m \u001b[49m\u001b[43mtimeout\u001b[49m\u001b[43m,\u001b[49m\u001b[43m \u001b[49m\u001b[43mwait\u001b[49m\u001b[43m)\u001b[49m\n",
      "File \u001b[1;32mD:\\Desktop\\iQuHack\\Q-Sup\\env\\lib\\site-packages\\quantuminspire\\qiskit\\qi_job.py:125\u001b[0m, in \u001b[0;36mQIJob._result\u001b[1;34m(self, result_function, timeout, wait)\u001b[0m\n\u001b[0;32m    112\u001b[0m \u001b[38;5;124;03m\"\"\" Return the result for the experiments.\u001b[39;00m\n\u001b[0;32m    113\u001b[0m \n\u001b[0;32m    114\u001b[0m \u001b[38;5;124;03m:param result_function: backend function for fetching the requested results.\u001b[39;00m\n\u001b[1;32m   (...)\u001b[0m\n\u001b[0;32m    122\u001b[0m \u001b[38;5;124;03m:raises QiskitBackendError: If an error occurs during simulation.\u001b[39;00m\n\u001b[0;32m    123\u001b[0m \u001b[38;5;124;03m\"\"\"\u001b[39;00m\n\u001b[0;32m    124\u001b[0m start_time \u001b[38;5;241m=\u001b[39m time\u001b[38;5;241m.\u001b[39mtime()\n\u001b[1;32m--> 125\u001b[0m \u001b[38;5;28;01mwhile\u001b[39;00m \u001b[38;5;28;43mself\u001b[39;49m\u001b[38;5;241;43m.\u001b[39;49m\u001b[43mstatus\u001b[49m\u001b[43m(\u001b[49m\u001b[43m)\u001b[49m \u001b[38;5;129;01mnot\u001b[39;00m \u001b[38;5;129;01min\u001b[39;00m JOB_FINAL_STATES:\n\u001b[0;32m    126\u001b[0m     elapsed_time \u001b[38;5;241m=\u001b[39m time\u001b[38;5;241m.\u001b[39mtime() \u001b[38;5;241m-\u001b[39m start_time\n\u001b[0;32m    127\u001b[0m     \u001b[38;5;28;01mif\u001b[39;00m timeout \u001b[38;5;129;01mis\u001b[39;00m \u001b[38;5;129;01mnot\u001b[39;00m \u001b[38;5;28;01mNone\u001b[39;00m \u001b[38;5;129;01mand\u001b[39;00m elapsed_time \u001b[38;5;241m>\u001b[39m timeout:\n",
      "File \u001b[1;32mD:\\Desktop\\iQuHack\\Q-Sup\\env\\lib\\site-packages\\quantuminspire\\qiskit\\qi_job.py:213\u001b[0m, in \u001b[0;36mQIJob.status\u001b[1;34m(self)\u001b[0m\n\u001b[0;32m    206\u001b[0m \u001b[38;5;28;01mdef\u001b[39;00m \u001b[38;5;21mstatus\u001b[39m(\u001b[38;5;28mself\u001b[39m) \u001b[38;5;241m-\u001b[39m\u001b[38;5;241m>\u001b[39m JobStatus:\n\u001b[0;32m    207\u001b[0m     \u001b[38;5;124;03m\"\"\"\u001b[39;00m\n\u001b[0;32m    208\u001b[0m \u001b[38;5;124;03m    Check the status of the jobs submitted in the latest run.\u001b[39;00m\n\u001b[0;32m    209\u001b[0m \n\u001b[0;32m    210\u001b[0m \u001b[38;5;124;03m    :return:\u001b[39;00m\n\u001b[0;32m    211\u001b[0m \u001b[38;5;124;03m        The status of the job.\u001b[39;00m\n\u001b[0;32m    212\u001b[0m \u001b[38;5;124;03m    \"\"\"\u001b[39;00m\n\u001b[1;32m--> 213\u001b[0m     jobs \u001b[38;5;241m=\u001b[39m \u001b[38;5;28;43mself\u001b[39;49m\u001b[38;5;241;43m.\u001b[39;49m\u001b[43mget_jobs\u001b[49m\u001b[43m(\u001b[49m\u001b[43m)\u001b[49m\n\u001b[0;32m    214\u001b[0m     number_of_jobs \u001b[38;5;241m=\u001b[39m \u001b[38;5;28mlen\u001b[39m(jobs)\n\u001b[0;32m    215\u001b[0m     cancelled \u001b[38;5;241m=\u001b[39m \u001b[38;5;28mlen\u001b[39m([job \u001b[38;5;28;01mfor\u001b[39;00m job \u001b[38;5;129;01min\u001b[39;00m jobs \u001b[38;5;28;01mif\u001b[39;00m job[\u001b[38;5;124m'\u001b[39m\u001b[38;5;124mstatus\u001b[39m\u001b[38;5;124m'\u001b[39m] \u001b[38;5;241m==\u001b[39m \u001b[38;5;124m'\u001b[39m\u001b[38;5;124mCANCELLED\u001b[39m\u001b[38;5;124m'\u001b[39m])\n",
      "File \u001b[1;32mD:\\Desktop\\iQuHack\\Q-Sup\\env\\lib\\site-packages\\quantuminspire\\qiskit\\qi_job.py:181\u001b[0m, in \u001b[0;36mQIJob.get_jobs\u001b[1;34m(self)\u001b[0m\n\u001b[0;32m    171\u001b[0m \u001b[38;5;28;01mdef\u001b[39;00m \u001b[38;5;21mget_jobs\u001b[39m(\u001b[38;5;28mself\u001b[39m) \u001b[38;5;241m-\u001b[39m\u001b[38;5;241m>\u001b[39m List[Dict[\u001b[38;5;28mstr\u001b[39m, Any]]:\n\u001b[0;32m    172\u001b[0m     \u001b[38;5;124;03m\"\"\" Gets the Quantum Inspire jobs that were submitted in the latest run. These job were added with add_job.\u001b[39;00m\n\u001b[0;32m    173\u001b[0m \n\u001b[0;32m    174\u001b[0m \u001b[38;5;124;03m    :return:\u001b[39;00m\n\u001b[1;32m   (...)\u001b[0m\n\u001b[0;32m    179\u001b[0m \u001b[38;5;124;03m    :raises ApiError: If the job for the job identified does not exist.\u001b[39;00m\n\u001b[0;32m    180\u001b[0m \u001b[38;5;124;03m    \"\"\"\u001b[39;00m\n\u001b[1;32m--> 181\u001b[0m     ret \u001b[38;5;241m=\u001b[39m [\u001b[38;5;28mself\u001b[39m\u001b[38;5;241m.\u001b[39m_api\u001b[38;5;241m.\u001b[39mget_job(job\u001b[38;5;241m.\u001b[39mget_job_identifier()) \u001b[38;5;28;01mfor\u001b[39;00m job \u001b[38;5;129;01min\u001b[39;00m \u001b[38;5;28mself\u001b[39m\u001b[38;5;241m.\u001b[39mjobs]\n\u001b[0;32m    182\u001b[0m     \u001b[38;5;28;01mreturn\u001b[39;00m ret\n",
      "File \u001b[1;32mD:\\Desktop\\iQuHack\\Q-Sup\\env\\lib\\site-packages\\quantuminspire\\qiskit\\qi_job.py:181\u001b[0m, in \u001b[0;36m<listcomp>\u001b[1;34m(.0)\u001b[0m\n\u001b[0;32m    171\u001b[0m \u001b[38;5;28;01mdef\u001b[39;00m \u001b[38;5;21mget_jobs\u001b[39m(\u001b[38;5;28mself\u001b[39m) \u001b[38;5;241m-\u001b[39m\u001b[38;5;241m>\u001b[39m List[Dict[\u001b[38;5;28mstr\u001b[39m, Any]]:\n\u001b[0;32m    172\u001b[0m     \u001b[38;5;124;03m\"\"\" Gets the Quantum Inspire jobs that were submitted in the latest run. These job were added with add_job.\u001b[39;00m\n\u001b[0;32m    173\u001b[0m \n\u001b[0;32m    174\u001b[0m \u001b[38;5;124;03m    :return:\u001b[39;00m\n\u001b[1;32m   (...)\u001b[0m\n\u001b[0;32m    179\u001b[0m \u001b[38;5;124;03m    :raises ApiError: If the job for the job identified does not exist.\u001b[39;00m\n\u001b[0;32m    180\u001b[0m \u001b[38;5;124;03m    \"\"\"\u001b[39;00m\n\u001b[1;32m--> 181\u001b[0m     ret \u001b[38;5;241m=\u001b[39m [\u001b[38;5;28;43mself\u001b[39;49m\u001b[38;5;241;43m.\u001b[39;49m\u001b[43m_api\u001b[49m\u001b[38;5;241;43m.\u001b[39;49m\u001b[43mget_job\u001b[49m\u001b[43m(\u001b[49m\u001b[43mjob\u001b[49m\u001b[38;5;241;43m.\u001b[39;49m\u001b[43mget_job_identifier\u001b[49m\u001b[43m(\u001b[49m\u001b[43m)\u001b[49m\u001b[43m)\u001b[49m \u001b[38;5;28;01mfor\u001b[39;00m job \u001b[38;5;129;01min\u001b[39;00m \u001b[38;5;28mself\u001b[39m\u001b[38;5;241m.\u001b[39mjobs]\n\u001b[0;32m    182\u001b[0m     \u001b[38;5;28;01mreturn\u001b[39;00m ret\n",
      "File \u001b[1;32mD:\\Desktop\\iQuHack\\Q-Sup\\env\\lib\\site-packages\\quantuminspire\\api.py:417\u001b[0m, in \u001b[0;36mQuantumInspireAPI.get_job\u001b[1;34m(self, job_id)\u001b[0m\n\u001b[0;32m    415\u001b[0m     job \u001b[38;5;241m=\u001b[39m \u001b[38;5;28mself\u001b[39m\u001b[38;5;241m.\u001b[39m_action([\u001b[38;5;124m'\u001b[39m\u001b[38;5;124mjobs\u001b[39m\u001b[38;5;124m'\u001b[39m, \u001b[38;5;124m'\u001b[39m\u001b[38;5;124mread\u001b[39m\u001b[38;5;124m'\u001b[39m], params\u001b[38;5;241m=\u001b[39m{\u001b[38;5;124m'\u001b[39m\u001b[38;5;124mid\u001b[39m\u001b[38;5;124m'\u001b[39m: job_id})\n\u001b[0;32m    416\u001b[0m \u001b[38;5;28;01mexcept\u001b[39;00m ErrorMessage \u001b[38;5;28;01mas\u001b[39;00m err_msg:\n\u001b[1;32m--> 417\u001b[0m     \u001b[38;5;28;01mraise\u001b[39;00m ApiError(\u001b[38;5;124mf\u001b[39m\u001b[38;5;124m'\u001b[39m\u001b[38;5;124mJob with id \u001b[39m\u001b[38;5;132;01m{\u001b[39;00mjob_id\u001b[38;5;132;01m}\u001b[39;00m\u001b[38;5;124m does not exist!\u001b[39m\u001b[38;5;124m'\u001b[39m) \u001b[38;5;28;01mfrom\u001b[39;00m \u001b[38;5;21;01merr_msg\u001b[39;00m\n\u001b[0;32m    418\u001b[0m \u001b[38;5;28;01mreturn\u001b[39;00m \u001b[38;5;28mdict\u001b[39m(job)\n",
      "\u001b[1;31mApiError\u001b[0m: Job with id 7127017 does not exist!"
     ]
    }
   ],
   "source": [
    "results = job.result()\n",
    "counts = results.get_counts()"
   ]
  },
  {
   "cell_type": "code",
   "execution_count": null,
   "id": "7ecd52ae",
   "metadata": {},
   "outputs": [],
   "source": [
    "abPatterns = [\n",
    "    re.compile('00'), # search for the '..00' output (Alice obtained -1 and Bob obtained -1)\n",
    "    re.compile('01'), # search for the '..01' output\n",
    "    re.compile('10'), # search for the '..10' output (Alice obtained -1 and Bob obtained 1)\n",
    "    re.compile('11')  # search for the '..11' output\n",
    "]"
   ]
  },
  {
   "cell_type": "markdown",
   "id": "3d6d8dd5",
   "metadata": {},
   "source": [
    "### Alices and Bobs measurement result"
   ]
  },
  {
   "cell_type": "code",
   "execution_count": null,
   "id": "5f980232",
   "metadata": {},
   "outputs": [],
   "source": [
    "aliceResults = [] # Alice's results (string a)\n",
    "bobResults = [] # Bob's results (string a')\n",
    "\n",
    "for i in range(N_en_pairs):\n",
    "\n",
    "    res = list(counts[i].keys())[0] # extract the key from the dict and transform it to str; execution result of the i-th circuit\n",
    "    \n",
    "    if abPatterns[0].search(res): # check if the key is '..00' (if the measurement results are -1,-1)\n",
    "        aliceResults.append(-1) # Alice got the result -1 \n",
    "        bobResults.append(-1) # Bob got the result -1\n",
    "    if abPatterns[1].search(res):\n",
    "        aliceResults.append(1)\n",
    "        bobResults.append(-1)\n",
    "    if abPatterns[2].search(res): # check if the key is '..10' (if the measurement results are -1,1)\n",
    "        aliceResults.append(-1) # Alice got the result -1 \n",
    "        bobResults.append(1) # Bob got the result 1\n",
    "    if abPatterns[3].search(res): \n",
    "        aliceResults.append(1)\n",
    "        bobResults.append(1)"
   ]
  },
  {
   "cell_type": "markdown",
   "id": "77b02e4c",
   "metadata": {},
   "source": [
    "### Key Generation"
   ]
  },
  {
   "cell_type": "code",
   "execution_count": null,
   "id": "3bc0e8b1",
   "metadata": {},
   "outputs": [],
   "source": [
    "aliceKey = [] # Alice's key string k\n",
    "bobKey = [] # Bob's key string k'\n",
    "\n",
    "# comparing the strings with measurement choices\n",
    "for i in range(N_en_pairs):\n",
    "    # if Alice and Bob have measured the spin projections onto the a_2/b_3 or a_3/b_2 directions\n",
    "    if (alice_seq[i] == 2 and bob_seq[i] == 3) or (alice_seq[i] == 3 and bob_seq[i] == 2):\n",
    "        aliceKey.append(aliceResults[i-1]) # record the i-th result obtained by Alice as the bit of the secret key k\n",
    "        bobKey.append(- bobResults[i-1]) # record the multiplied by -1 i-th result obtained Bob as the bit of the secret key k'\n",
    "        print(i)\n",
    "        \n",
    "keyLength = len(aliceKey) # length of the secret key"
   ]
  },
  {
   "cell_type": "code",
   "execution_count": null,
   "id": "160566d7",
   "metadata": {},
   "outputs": [],
   "source": [
    "abKeyMismatches = 0 # number of mismatching bits in Alice's and Bob's keys\n",
    "\n",
    "for j in range(keyLength):\n",
    "    if aliceKey[j] != bobKey[j]:\n",
    "        abKeyMismatches += 1"
   ]
  },
  {
   "cell_type": "code",
   "execution_count": null,
   "id": "0b91e9e9",
   "metadata": {},
   "outputs": [],
   "source": []
  },
  {
   "cell_type": "code",
   "execution_count": null,
   "id": "61ab1187",
   "metadata": {},
   "outputs": [],
   "source": [
    "bobKey"
   ]
  },
  {
   "cell_type": "code",
   "execution_count": null,
   "id": "e2deb545",
   "metadata": {},
   "outputs": [],
   "source": [
    "aliceKey"
   ]
  },
  {
   "cell_type": "code",
   "execution_count": null,
   "id": "fad0953e",
   "metadata": {},
   "outputs": [],
   "source": [
    "abKeyMismatches"
   ]
  },
  {
   "cell_type": "code",
   "execution_count": null,
   "id": "dcddae0f",
   "metadata": {},
   "outputs": [],
   "source": [
    "aliceResults"
   ]
  },
  {
   "cell_type": "code",
   "execution_count": null,
   "id": "5229e2da",
   "metadata": {},
   "outputs": [],
   "source": [
    "bobResults"
   ]
  },
  {
   "cell_type": "code",
   "execution_count": null,
   "id": "86926057",
   "metadata": {},
   "outputs": [],
   "source": [
    "alice_seq"
   ]
  },
  {
   "cell_type": "code",
   "execution_count": null,
   "id": "02bca076",
   "metadata": {},
   "outputs": [],
   "source": [
    "bob_seq"
   ]
  },
  {
   "cell_type": "code",
   "execution_count": null,
   "id": "e5da64fc",
   "metadata": {},
   "outputs": [],
   "source": []
  },
  {
   "cell_type": "code",
   "execution_count": null,
   "id": "6b899d75",
   "metadata": {},
   "outputs": [],
   "source": []
  }
 ],
 "metadata": {
  "kernelspec": {
   "display_name": "Python 3 (ipykernel)",
   "language": "python",
   "name": "python3"
  },
  "language_info": {
   "codemirror_mode": {
    "name": "ipython",
    "version": 3
   },
   "file_extension": ".py",
   "mimetype": "text/x-python",
   "name": "python",
   "nbconvert_exporter": "python",
   "pygments_lexer": "ipython3",
   "version": "3.9.7"
  }
 },
 "nbformat": 4,
 "nbformat_minor": 5
}
