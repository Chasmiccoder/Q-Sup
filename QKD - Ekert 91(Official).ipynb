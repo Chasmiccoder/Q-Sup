{
 "cells": [
  {
   "cell_type": "markdown",
   "id": "9a014543",
   "metadata": {},
   "source": [
    "### Demonstration of Quantum Key Distribution with the Ekert 91 Protocol\n",
    "\n",
    "Algorithm -\n",
    "1. First generate the a maximally entangled qubit pair |psi+> = 1/root(2) * (|01> - |10>)\n",
    "2. Send one qubit to Alice and one qubit to Bob\n",
    "3. Both Alice and Bob perform their measurement and make the measurement bases public.\n",
    "4. According to the new information obtained, a sifted key is created, which can be used for secure communication\n",
    "\n",
    "Modification to this Algorithm (because we get only 1 quantum computer) -\n",
    "1. First generate the a maximally entangled qubit pair |psi+> = 1/root(2) * (|01> - |10>)\n",
    "2. Take the measurement bases from Alice and Bob\n",
    "3. Perform measurement, and send the measurement results to Alice and Bob respectively\n",
    "4. Note that Alice and Bob do not have each other's measurement outcomes, they have only theirs\n",
    "5. The measurement bases are made public, and the sifted key is obtained"
   ]
  },
  {
   "cell_type": "code",
   "execution_count": 13,
   "id": "60132ab9",
   "metadata": {},
   "outputs": [
    {
     "name": "stdout",
     "output_type": "stream",
     "text": [
      "Process Complete!\n"
     ]
    }
   ],
   "source": [
    "import os\n",
    "from qiskit import execute\n",
    "from qiskit.circuit import QuantumRegister, ClassicalRegister, QuantumCircuit\n",
    "\n",
    "from quantuminspire.credentials import get_authentication, save_account\n",
    "from quantuminspire.qiskit import QI\n",
    "from apikey import token\n",
    "\n",
    "QI_URL = os.getenv('API_URL', 'https://api.quantum-inspire.com/')\n",
    "\n",
    "import re\n",
    "import numpy as np\n",
    "import random\n",
    "print(\"Process Complete!\")"
   ]
  },
  {
   "cell_type": "markdown",
   "id": "9e1108e8",
   "metadata": {},
   "source": [
    "<a id=\"layout\"></a>\n",
    "# 1. Quantum Key Distribution Activity layout\n",
    "\n",
    "In project, we are going to implement the E91 protocol. Steps of the protocol:\n",
    "\n",
    "1. The serves creates a singlet state where one pair corresponds to Alice and other to Bob.\n",
    "2. Alice randomly selects a sequence of measurement basis from Z,X,V and sends it to server\n",
    "3. Bob randomly selects a sequence of measurement basis from W,V,X and sends it to server\n",
    "4. `Intermediate interface function 1`: a MUX that creates a circuit based on Alice and Bob's selection of bases\n",
    "5. `Intermediate interface function 2`: execute the measurement on Quantum Inspire \n",
    "6. `Intermediate interface function 3`: check the basis and create the key and send it to Alice and Bob \n",
    "\n",
    "These 6 steps allow a key to be distributed between Alice and Bob securely, now the two can send secure and encrypted messages through an insecure channel. \n",
    "\n",
    "In this lab, we will not worry about an eavesdropper, but focus on the code for the basic protocol. Therefore, Alice and Bob don't need to run an analysis step. We can further extend it this to try implementing code for Eve."
   ]
  },
  {
   "cell_type": "code",
   "execution_count": 14,
   "id": "81c8eb33",
   "metadata": {},
   "outputs": [
    {
     "name": "stdout",
     "output_type": "stream",
     "text": [
      "Process Complete!\n"
     ]
    }
   ],
   "source": [
    "# Parameters\n",
    "N_en_pairs = 10\n",
    "alice_seq = [random.randint(1, 3) for i in range(N_en_pairs)]\n",
    "bob_seq = [random.randint(1, 3) for i in range(N_en_pairs)]\n",
    "print(\"Process Complete!\")"
   ]
  },
  {
   "cell_type": "markdown",
   "id": "e3fe19f5",
   "metadata": {},
   "source": [
    "<a id=\"layout\"></a>\n",
    "## 1. Create entangled states and encode measurement sequence"
   ]
  },
  {
   "cell_type": "code",
   "execution_count": 15,
   "id": "8aafe7a4",
   "metadata": {},
   "outputs": [
    {
     "name": "stdout",
     "output_type": "stream",
     "text": [
      "Process Complete!\n"
     ]
    }
   ],
   "source": [
    "Quantum_Circuit = [] # list for storing the quantum circuit for each bit\n",
    "\n",
    "for i in range(N_en_pairs):\n",
    "    Alice_Reg = QuantumRegister(1, name=\"alice\")\n",
    "    Bob_Reg = QuantumRegister(1, name=\"bob\")\n",
    "    cr = ClassicalRegister(2, name=\"cr\")\n",
    "    qc = QuantumCircuit(Alice_Reg, Bob_Reg, cr)\n",
    "    \n",
    "     # Create an entangled pair for Alice and Bob in each loop\n",
    "    qc.x(Alice_Reg)\n",
    "    qc.x(Bob_Reg)\n",
    "    qc.h(Alice_Reg)\n",
    "    qc.cx(Alice_Reg, Bob_Reg)\n",
    "    \n",
    "    # Cicuit Measurement for different bases\n",
    "    \n",
    "    if alice_seq[i]== 1:            #If Alice's random sequence is 1, Alice measures in the Z basis\n",
    "        qc.measure(Alice_Reg,cr[0])  \n",
    "    elif alice_seq[i] == 2:         #If Alice's random sequence is 2, Alice measures in the X basis\n",
    "        qc.h(Alice_Reg)\n",
    "        qc.measure(Alice_Reg,cr[0])\n",
    "    elif alice_seq==3:              #If Alice's random sequence is 3, Alice measures in the V basis (-1/sqrt(2), 0, 1/sqrt(2))\n",
    "        qc.s(Alice_Reg)\n",
    "        qc.h(Alice_Reg)\n",
    "        qc.tdg(Alice_Reg)\n",
    "        qc.h(Alice_Reg)\n",
    "        qc.measure(Alice_Reg, cr[0])\n",
    "        \n",
    "    if bob_seq[i]==1:               #If  Bob's random sequence is 1, Bob measures in the -W basis\n",
    "        qc.s(Bob_Reg)\n",
    "        qc.h(Bob_Reg)\n",
    "        qc.t(Bob_Reg)\n",
    "        qc.h(Bob_Reg)\n",
    "        qc.measure(Bob_Reg, cr[1])\n",
    "    elif bob_seq[i] == 2:           #If  Bob's random sequence is 2, Bob measures in the V basis\n",
    "        qc.s(Bob_Reg)\n",
    "        qc.h(Bob_Reg)\n",
    "        qc.tdg(Bob_Reg)\n",
    "        qc.h(Bob_Reg)\n",
    "        qc.measure(Bob_Reg, cr[1])\n",
    "    elif bob_seq[i] == 3:           #If  Bob's random sequence is 3, Bob measures in the X basis\n",
    "        qc.h(Bob_Reg)\n",
    "        qc.measure(Bob_Reg, cr[1])\n",
    "\n",
    "    Quantum_Circuit.append(qc)\n",
    "\n",
    "print(\"Process Complete!\")"
   ]
  },
  {
   "cell_type": "code",
   "execution_count": 16,
   "id": "24973f70",
   "metadata": {
    "scrolled": true
   },
   "outputs": [
    {
     "name": "stdout",
     "output_type": "stream",
     "text": [
      "Process Complete!\n"
     ]
    }
   ],
   "source": [
    "Quantum_Circuit[0].draw(output='mpl')\n",
    "print(\"Process Complete!\")"
   ]
  },
  {
   "cell_type": "markdown",
   "id": "77d3df2b",
   "metadata": {},
   "source": [
    "## To QI"
   ]
  },
  {
   "cell_type": "code",
   "execution_count": 17,
   "id": "81252e9a",
   "metadata": {},
   "outputs": [
    {
     "name": "stdout",
     "output_type": "stream",
     "text": [
      "Process Complete!\n"
     ]
    }
   ],
   "source": [
    "save_account(token)\n",
    "project_name = 'E91_test_hardware'\n",
    "authentication = get_authentication()\n",
    "QI.set_authentication()\n",
    "\n",
    "# Create an interface between Qiskit and Quantum Inpsire to execute the circuit\n",
    "# qi_backend = QI.get_backend('Starmon-5')\n",
    "qi_backend = QI.get_backend('QX single-node simulator')\n",
    "\n",
    "job = execute(Quantum_Circuit, qi_backend, shots = 1)\n",
    "print(\"Process Complete!\")"
   ]
  },
  {
   "cell_type": "code",
   "execution_count": 18,
   "id": "0517433d",
   "metadata": {},
   "outputs": [
    {
     "name": "stdout",
     "output_type": "stream",
     "text": [
      "Process Complete!\n"
     ]
    }
   ],
   "source": [
    "results = job.result()\n",
    "counts = results.get_counts()\n",
    "print(\"Process Complete!\")"
   ]
  },
  {
   "cell_type": "code",
   "execution_count": 19,
   "id": "7ecd52ae",
   "metadata": {},
   "outputs": [
    {
     "name": "stdout",
     "output_type": "stream",
     "text": [
      "Process Complete!\n"
     ]
    }
   ],
   "source": [
    "abPatterns = [\n",
    "    re.compile('00'), # search for the '..00' output (Alice obtained -1 and Bob obtained -1)\n",
    "    re.compile('01'), # search for the '..01' output\n",
    "    re.compile('10'), # search for the '..10' output (Alice obtained -1 and Bob obtained 1)\n",
    "    re.compile('11')  # search for the '..11' output\n",
    "]\n",
    "print(\"Process Complete!\")"
   ]
  },
  {
   "cell_type": "markdown",
   "id": "37c2d88e",
   "metadata": {},
   "source": [
    "### Alices and Bobs measurement result"
   ]
  },
  {
   "cell_type": "code",
   "execution_count": 20,
   "id": "5f980232",
   "metadata": {},
   "outputs": [
    {
     "name": "stdout",
     "output_type": "stream",
     "text": [
      "Process Complete!\n"
     ]
    }
   ],
   "source": [
    "aliceResults = [] # Alice's results (string a)\n",
    "bobResults = [] # Bob's results (string a')\n",
    "\n",
    "for i in range(N_en_pairs):\n",
    "\n",
    "    res = list(counts[i].keys())[0] # extract the key from the dict and transform it to str; execution result of the i-th circuit\n",
    "    \n",
    "    if abPatterns[0].search(res): # check if the key is '..00' (if the measurement results are -1,-1)\n",
    "        aliceResults.append(-1) # Alice got the result -1 \n",
    "        bobResults.append(-1) # Bob got the result -1\n",
    "    if abPatterns[1].search(res):\n",
    "        aliceResults.append(1)\n",
    "        bobResults.append(-1)\n",
    "    if abPatterns[2].search(res): # check if the key is '..10' (if the measurement results are -1,1)\n",
    "        aliceResults.append(-1) # Alice got the result -1 \n",
    "        bobResults.append(1) # Bob got the result 1\n",
    "    if abPatterns[3].search(res): \n",
    "        aliceResults.append(1)\n",
    "        bobResults.append(1)\n",
    "\n",
    "print(\"Process Complete!\")"
   ]
  },
  {
   "cell_type": "markdown",
   "id": "83136971",
   "metadata": {},
   "source": [
    "### Key Generation"
   ]
  },
  {
   "cell_type": "code",
   "execution_count": 21,
   "id": "3bc0e8b1",
   "metadata": {},
   "outputs": [
    {
     "name": "stdout",
     "output_type": "stream",
     "text": [
      "[-1, -1]\n",
      "Process Complete!\n"
     ]
    }
   ],
   "source": [
    "aliceKey = [] # Alice's key string k\n",
    "bobKey = [] # Bob's key string k'\n",
    "\n",
    "# comparing the strings with measurement choices\n",
    "for i in range(N_en_pairs):\n",
    "    # if Alice and Bob have measured the spin projections onto the a_2/b_3 or a_3/b_2 directions\n",
    "    if (alice_seq[i] == 2 and bob_seq[i] == 3) or (alice_seq[i] == 3 and bob_seq[i] == 2):\n",
    "        aliceKey.append(aliceResults[i]) # record the i-th result obtained by Alice as the bit of the secret key k\n",
    "        bobKey.append(- bobResults[i]) # record the multiplied by -1 i-th result obtained Bob as the bit of the secret key k'\n",
    "        \n",
    "keyLength = len(aliceKey) # length of the secret key\n",
    "\n",
    "print(aliceKey)\n",
    "print(\"Process Complete!\")"
   ]
  },
  {
   "cell_type": "code",
   "execution_count": 22,
   "id": "160566d7",
   "metadata": {},
   "outputs": [
    {
     "name": "stdout",
     "output_type": "stream",
     "text": [
      "0\n",
      "Process Complete!\n"
     ]
    }
   ],
   "source": [
    "abKeyMismatches = 0 # number of mismatching bits in Alice's and Bob's keys\n",
    "\n",
    "for j in range(keyLength):\n",
    "    if aliceKey[j] != bobKey[j]:\n",
    "        abKeyMismatches += 1\n",
    "\n",
    "print(abKeyMismatches)\n",
    "print(\"Process Complete!\")"
   ]
  },
  {
   "cell_type": "markdown",
   "id": "4de2d8c2",
   "metadata": {},
   "source": [
    "Thus, Quantum Key Distribution has been demonstrated!"
   ]
  }
 ],
 "metadata": {
  "kernelspec": {
   "display_name": "Python 3 (ipykernel)",
   "language": "python",
   "name": "python3"
  },
  "language_info": {
   "codemirror_mode": {
    "name": "ipython",
    "version": 3
   },
   "file_extension": ".py",
   "mimetype": "text/x-python",
   "name": "python",
   "nbconvert_exporter": "python",
   "pygments_lexer": "ipython3",
   "version": "3.9.7"
  }
 },
 "nbformat": 4,
 "nbformat_minor": 5
}
