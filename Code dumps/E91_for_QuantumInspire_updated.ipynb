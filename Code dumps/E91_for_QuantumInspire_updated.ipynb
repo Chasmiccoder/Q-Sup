{
 "cells": [
  {
   "cell_type": "code",
   "execution_count": 28,
   "id": "60132ab9",
   "metadata": {},
   "outputs": [],
   "source": [
    "import os\n",
    "from qiskit import execute\n",
    "from qiskit.circuit import QuantumRegister, ClassicalRegister, QuantumCircuit\n",
    "\n",
    "from quantuminspire.credentials import get_authentication\n",
    "from quantuminspire.qiskit import QI\n",
    "\n",
    "QI_URL = os.getenv('API_URL', 'https://api.quantum-inspire.com/')\n",
    "\n",
    "import re"
   ]
  },
  {
   "cell_type": "markdown",
   "id": "9e1108e8",
   "metadata": {},
   "source": [
    "<a id=\"layout\"></a>\n",
    "# 1. Quantum Key Distribution Activity layout\n",
    "\n",
    "In project, we are going to implement the E91 protocol. Steps of the protocol:\n",
    "\n",
    "1. Create entangled states\n",
    "2. Alice randomly selects a basis ( × or + )\n",
    "3. Bob randomly selects a basis ( × or + )\n",
    "4. `Intermediate interface function 1`: a MUX that creates a circuit based on Alice and Bob's selection of bases\n",
    "5. `Intermediate interface function 2`: execute the measurement on Quantum Inspire \n",
    "6. `Intermediate interface function 3`: send back measurement results to Alice and Bob\n",
    "7. `ANNOUNCE BASIS`: Alice announces which basis she used to encode each bit, via the classical channel.\n",
    "\n",
    "7. `FIND SYMMETRIC KEY`: Alice and Bob discard bits in their key that used a different basis.\n",
    "\n",
    "These 7 steps allow a key to be distributed between Alice and Bob securely, now the two can send secure and encrypted messages through an insecure channel. In the required content for this lab, we will implement steps 1-4, and in the optional content we will implement steps 5-7.\n",
    "\n",
    "Note that we have left out **Step8: Analysis** here. In this lab, we will not worry about an eavesdropper, but focus on the code for the basic protocol. Therefore, Alice and Bob don't need to run an analysis step. If you're interested, you can try implementing code for Eve in the optional challenge section at the end of the notebook!"
   ]
  },
  {
   "cell_type": "code",
   "execution_count": 42,
   "id": "987790b4",
   "metadata": {},
   "outputs": [],
   "source": [
    "import numpy as np\n",
    "import random"
   ]
  },
  {
   "cell_type": "code",
   "execution_count": 95,
   "id": "81c8eb33",
   "metadata": {},
   "outputs": [],
   "source": [
    "# Parameters\n",
    "N_en_pairs = 10\n",
    "alice_seq = [random.randint(1, 3) for i in range(N_en_pairs)]\n",
    "bob_seq = [random.randint(1, 3) for i in range(N_en_pairs)]"
   ]
  },
  {
   "cell_type": "code",
   "execution_count": null,
   "id": "38d563e2",
   "metadata": {},
   "outputs": [],
   "source": []
  },
  {
   "cell_type": "markdown",
   "id": "e3fe19f5",
   "metadata": {},
   "source": [
    "<a id=\"layout\"></a>\n",
    "## 1. Create entangled states"
   ]
  },
  {
   "cell_type": "code",
   "execution_count": 96,
   "id": "8aafe7a4",
   "metadata": {},
   "outputs": [],
   "source": [
    "Quantum_Circuit = []\n",
    "\n",
    "for i in range(N_en_pairs):\n",
    "    # Create an entangled pair for Alice and Bob in each loop\n",
    "    Alice_Reg = QuantumRegister(1, name=\"alice\")\n",
    "    Bob_Reg = QuantumRegister(1, name=\"bob\")\n",
    "    cr = ClassicalRegister(2, name=\"cr\")\n",
    "    qc = QuantumCircuit(Alice_Reg, Bob_Reg, cr)\n",
    "    \n",
    "    # Entanglement operation\n",
    "    qc.x(Alice_Reg)\n",
    "    qc.x(Bob_Reg)\n",
    "    qc.h(Alice_Reg)\n",
    "    qc.cx(Alice_Reg, Bob_Reg)\n",
    "    \n",
    "    # Cicuit Measurement for different bases\n",
    "    \n",
    "    if alice_seq[i]== 1:            #If Alice's random sequence is 1, Alice measures in the Z basis\n",
    "        qc.measure(Alice_Reg,cr[0])  \n",
    "    elif alice_seq[i] == 2:         #If Alice's random sequence is 2, Alice measures in the X basis\n",
    "        qc.h(Alice_Reg)\n",
    "        qc.measure(Alice_Reg,cr[0])\n",
    "    elif alice_seq==3:              #If Alice's random sequence is 3, Alice measures in the V basis (-1/sqrt(2), 0, 1/sqrt(2))\n",
    "        qc.s(Alice_Reg)\n",
    "        qc.h(Alice_Reg)\n",
    "        qc.tdg(Alice_Reg)\n",
    "        qc.h(Alice_Reg)\n",
    "        qc.measure(Alice_Reg, cr[0])\n",
    "        \n",
    "    if bob_seq[i]==1:               #If  Bob's random sequence is 1, Bob measures in the -W basis\n",
    "        qc.h(Bob_Reg)\n",
    "        qc.tdg(Bob_Reg)\n",
    "        qc.h(Bob_Reg)\n",
    "        qc.sdg(Bob_Reg)\n",
    "        qc.measure(Bob_Reg, cr[1])\n",
    "    elif bob_seq[i] == 2:           #If  Bob's random sequence is 2, Bob measures in the V basis\n",
    "        qc.s(Bob_Reg)\n",
    "        qc.h(Bob_Reg)\n",
    "        qc.tdg(Bob_Reg)\n",
    "        qc.h(Bob_Reg)\n",
    "        qc.measure(Bob_Reg, cr[1])\n",
    "    elif bob_seq[i] == 3:           #If  Bob's random sequence is 3, Bob measures in the X basis\n",
    "        qc.h(Bob_Reg)\n",
    "        qc.measure(Bob_Reg, cr[1])\n",
    "\n",
    "    \n",
    "    Quantum_Circuit.append(qc)\n",
    "    #for i in range(N_en_pairs):\n",
    "    #qc.h(Alice_Reg[i])\n",
    "    #qc.cx(Alice_Reg[i], Bob_Reg[i])\n",
    "#Quantum_Circuit.draw(output='mpl')\n",
    "#Quantum_Circuit"
   ]
  },
  {
   "cell_type": "code",
   "execution_count": 97,
   "id": "24973f70",
   "metadata": {
    "scrolled": true
   },
   "outputs": [
    {
     "data": {
      "image/png": "[encoded data removed]",
      "text/plain": [
       "<Figure size 590.69x204.68 with 1 Axes>"
      ]
     },
     "execution_count": 97,
     "metadata": {},
     "output_type": "execute_result"
    }
   ],
   "source": [
    "Quantum_Circuit[0].draw(output='mpl')\n"
   ]
  },
  {
   "cell_type": "code",
   "execution_count": 98,
   "id": "81252e9a",
   "metadata": {},
   "outputs": [],
   "source": [
    "from quantuminspire.credentials import save_account\n",
    "save_account('64a63b0e608f63c8b7f9a7695a23f3f02bdabd9e')\n",
    "project_name = 'E91_test'\n",
    "authentication = get_authentication()\n",
    "QI.set_authentication(authentication, QI_URL, project_name=project_name)\n",
    "# Create an interface between Qiskit and Quantum Inpsire to execute the circuit\n",
    "qi_backend = QI.get_backend('QX single-node simulator')\n",
    "job = execute(Quantum_Circuit, qi_backend, shots =1)"
   ]
  },
  {
   "cell_type": "code",
   "execution_count": 99,
   "id": "0517433d",
   "metadata": {},
   "outputs": [],
   "source": [
    "results = job.result()\n",
    "counts = results.get_counts()"
   ]
  },
  {
   "cell_type": "code",
   "execution_count": 100,
   "id": "9dae5c4d",
   "metadata": {},
   "outputs": [
    {
     "data": {
      "text/plain": [
       "{'10': 1}"
      ]
     },
     "execution_count": 100,
     "metadata": {},
     "output_type": "execute_result"
    }
   ],
   "source": [
    "counts[0]"
   ]
  },
  {
   "cell_type": "code",
   "execution_count": 101,
   "id": "7ecd52ae",
   "metadata": {},
   "outputs": [],
   "source": [
    "abPatterns = [\n",
    "    re.compile('00'), # search for the '..00' output (Alice obtained -1 and Bob obtained -1)\n",
    "    re.compile('01'), # search for the '..01' output\n",
    "    re.compile('10'), # search for the '..10' output (Alice obtained -1 and Bob obtained 1)\n",
    "    re.compile('11')  # search for the '..11' output\n",
    "]"
   ]
  },
  {
   "cell_type": "code",
   "execution_count": null,
   "id": "98975d97",
   "metadata": {},
   "outputs": [],
   "source": []
  },
  {
   "cell_type": "code",
   "execution_count": 102,
   "id": "5f980232",
   "metadata": {},
   "outputs": [],
   "source": [
    "aliceResults = [] # Alice's results (string a)\n",
    "bobResults = [] # Bob's results (string a')\n",
    "\n",
    "for i in range(N_en_pairs):\n",
    "\n",
    "    res = list(counts[i].keys())[0] # extract the key from the dict and transform it to str; execution result of the i-th circuit\n",
    "    \n",
    "    if abPatterns[0].search(res): # check if the key is '..00' (if the measurement results are -1,-1)\n",
    "        aliceResults.append(-1) # Alice got the result -1 \n",
    "        bobResults.append(-1) # Bob got the result -1\n",
    "    if abPatterns[1].search(res):\n",
    "        aliceResults.append(1)\n",
    "        bobResults.append(-1)\n",
    "    if abPatterns[2].search(res): # check if the key is '..10' (if the measurement results are -1,1)\n",
    "        aliceResults.append(-1) # Alice got the result -1 \n",
    "        bobResults.append(1) # Bob got the result 1\n",
    "    if abPatterns[3].search(res): \n",
    "        aliceResults.append(1)\n",
    "        bobResults.append(1)"
   ]
  },
  {
   "cell_type": "code",
   "execution_count": null,
   "id": "e1617f00",
   "metadata": {},
   "outputs": [],
   "source": []
  },
  {
   "cell_type": "code",
   "execution_count": 103,
   "id": "3bc0e8b1",
   "metadata": {},
   "outputs": [],
   "source": [
    "aliceKey = [] # Alice's key string k\n",
    "bobKey = [] # Bob's key string k'\n",
    "\n",
    "# comparing the strings with measurement choices\n",
    "for i in range(N_en_pairs):\n",
    "    # if Alice and Bob have measured the spin projections onto the a_2/b_1 or a_3/b_2 directions\n",
    "    if (alice_seq[i] == 2 and bob_seq[i] == 1) or (alice_seq[i] == 3 and bob_seq[i] == 2):\n",
    "        aliceKey.append(aliceResults[i]) # record the i-th result obtained by Alice as the bit of the secret key k\n",
    "        bobKey.append(- bobResults[i]) # record the multiplied by -1 i-th result obtained Bob as the bit of the secret key k'\n",
    "        \n",
    "keyLength = len(aliceKey) # length of the secret key"
   ]
  },
  {
   "cell_type": "code",
   "execution_count": 104,
   "id": "160566d7",
   "metadata": {},
   "outputs": [],
   "source": [
    "abKeyMismatches = 0 # number of mismatching bits in Alice's and Bob's keys\n",
    "\n",
    "for j in range(keyLength):\n",
    "    if aliceKey[j] != bobKey[j]:\n",
    "        abKeyMismatches += 1"
   ]
  },
  {
   "cell_type": "code",
   "execution_count": null,
   "id": "0b91e9e9",
   "metadata": {},
   "outputs": [],
   "source": []
  },
  {
   "cell_type": "code",
   "execution_count": null,
   "id": "61ab1187",
   "metadata": {},
   "outputs": [],
   "source": []
  },
  {
   "cell_type": "code",
   "execution_count": 105,
   "id": "e2deb545",
   "metadata": {},
   "outputs": [
    {
     "data": {
      "text/plain": [
       "[-1, 1]"
      ]
     },
     "execution_count": 105,
     "metadata": {},
     "output_type": "execute_result"
    }
   ],
   "source": [
    "aliceKey"
   ]
  },
  {
   "cell_type": "code",
   "execution_count": 106,
   "id": "fad0953e",
   "metadata": {},
   "outputs": [
    {
     "data": {
      "text/plain": [
       "1"
      ]
     },
     "execution_count": 106,
     "metadata": {},
     "output_type": "execute_result"
    }
   ],
   "source": [
    "abKeyMismatches"
   ]
  },
  {
   "cell_type": "code",
   "execution_count": null,
   "id": "dcddae0f",
   "metadata": {},
   "outputs": [],
   "source": []
  }
 ],
 "metadata": {
  "kernelspec": {
   "display_name": "Python 3 (ipykernel)",
   "language": "python",
   "name": "python3"
  },
  "language_info": {
   "codemirror_mode": {
    "name": "ipython",
    "version": 3
   },
   "file_extension": ".py",
   "mimetype": "text/x-python",
   "name": "python",
   "nbconvert_exporter": "python",
   "pygments_lexer": "ipython3",
   "version": "3.9.7"
  }
 },
 "nbformat": 4,
 "nbformat_minor": 5
}
