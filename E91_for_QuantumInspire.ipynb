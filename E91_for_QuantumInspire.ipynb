{
 "cells": [
  {
   "cell_type": "code",
   "execution_count": 1,
   "id": "60132ab9",
   "metadata": {},
   "outputs": [],
   "source": [
    "import os\n",
    "from qiskit import execute\n",
    "from qiskit.circuit import QuantumRegister, ClassicalRegister, QuantumCircuit\n",
    "\n",
    "from quantuminspire.credentials import get_authentication\n",
    "from quantuminspire.qiskit import QI\n",
    "\n",
    "QI_URL = os.getenv('API_URL', 'https://api.quantum-inspire.com/')\n",
    "\n",
    "\n"
   ]
  },
  {
   "cell_type": "markdown",
   "id": "9e1108e8",
   "metadata": {},
   "source": [
    "<a id=\"layout\"></a>\n",
    "# 1. Quantum Key Distribution Activity layout\n",
    "\n",
    "In project, we are going to implement the E91 protocol. Steps of the protocol:\n",
    "\n",
    "1. Create entangled states\n",
    "2. Alice randomly selects a basis ( × or + )\n",
    "3. Bob randomly selects a basis ( × or + )\n",
    "4. `Intermediate interface function 1`: a MUX that creates a circuit based on Alice and Bob's selection of bases\n",
    "5. `Intermediate interface function 2`: execute the measurement on Quantum Inspire \n",
    "6. `Intermediate interface function 3`: send back measurement results to Alice and Bob\n",
    "7. `ANNOUNCE BASIS`: Alice announces which basis she used to encode each bit, via the classical channel.\n",
    "\n",
    "7. `FIND SYMMETRIC KEY`: Alice and Bob discard bits in their key that used a different basis.\n",
    "\n",
    "These 7 steps allow a key to be distributed between Alice and Bob securely, now the two can send secure and encrypted messages through an insecure channel. In the required content for this lab, we will implement steps 1-4, and in the optional content we will implement steps 5-7.\n",
    "\n",
    "Note that we have left out **Step8: Analysis** here. In this lab, we will not worry about an eavesdropper, but focus on the code for the basic protocol. Therefore, Alice and Bob don't need to run an analysis step. If you're interested, you can try implementing code for Eve in the optional challenge section at the end of the notebook!"
   ]
  },
  {
   "cell_type": "code",
   "execution_count": 2,
   "id": "987790b4",
   "metadata": {},
   "outputs": [],
   "source": [
    "from random import getrandbits\n",
    "import qiskit as q"
   ]
  },
  {
   "cell_type": "code",
   "execution_count": 4,
   "id": "81c8eb33",
   "metadata": {},
   "outputs": [],
   "source": [
    "# Parameters\n",
    "N_en_pairs = 4\n",
    "Alice_seq = []\n",
    "Bob_seq = []"
   ]
  },
  {
   "cell_type": "markdown",
   "id": "e3fe19f5",
   "metadata": {},
   "source": [
    "<a id=\"layout\"></a>\n",
    "## 1. Create entangled states"
   ]
  },
  {
   "cell_type": "code",
   "execution_count": 16,
   "id": "66b15f6b",
   "metadata": {},
   "outputs": [],
   "source": [
    "def measurement(i):\n",
    "    if alice_seq[i]== \"1\":\n",
    "        qc.measure(Alice_Reg,cr[0])\n",
    "    elif alice_seq[i] == \"2\":\n",
    "        qc.h(Alice_Reg)\n",
    "        qc.measure(Alice_Reg,cr[0])\n",
    "    elif alice_seq==\"2\":\n",
    "        qc.s(Alice_Reg)\n",
    "        qc.h(Alice_Reg)\n",
    "        qc.tdag(Alice_Reg)\n",
    "        qc.h(Alice_Reg)\n",
    "        qc.measure(Alice_Reg, cr[0])\n",
    "        \n",
    "    if bob_seq[i]==\"1\":\n",
    "        qc.s(Bob_Reg)\n",
    "        qc.h(Bob_Reg)\n",
    "        qc.t(Bob_Reg)\n",
    "        qc.h(Bob_Reg)\n",
    "        qc.measure(Bob_Reg, cr[1])\n",
    "    elif bob_seq[i] == \"2\":\n",
    "        qc.s(Bob_Reg)\n",
    "        qc.h(Bob_Reg)\n",
    "        qc.tdag(Bob_Reg)\n",
    "        qc.h(Bob_Reg)\n",
    "        qc.measure(Bob_Reg, cr[1])\n",
    "    elif bob_seq[i] == \"3\":\n",
    "        qc.h(Bob_Reg)\n",
    "        qc.measure(Bob_Reg, cr[1])"
   ]
  },
  {
   "cell_type": "code",
   "execution_count": 9,
   "id": "8aafe7a4",
   "metadata": {},
   "outputs": [
    {
     "data": {
      "text/plain": [
       "[<qiskit.circuit.quantumcircuit.QuantumCircuit at 0x2091752ad30>,\n",
       " <qiskit.circuit.quantumcircuit.QuantumCircuit at 0x20917791e80>,\n",
       " <qiskit.circuit.quantumcircuit.QuantumCircuit at 0x209177912e0>,\n",
       " <qiskit.circuit.quantumcircuit.QuantumCircuit at 0x20917770ee0>]"
      ]
     },
     "execution_count": 9,
     "metadata": {},
     "output_type": "execute_result"
    }
   ],
   "source": [
    "Quantum_Circuit = []\n",
    "\n",
    "for i in range(N_en_pairs):\n",
    "    Alice_Reg = QuantumRegister(1, name=\"alice\")\n",
    "    Bob_Reg = QuantumRegister(1, name=\"bob\")\n",
    "    cr = ClassicalRegister(4, name=\"cr\")\n",
    "    qc = QuantumCircuit(Alice_Reg, Bob_Reg, cr)\n",
    "    \n",
    "    #Create Entanglement\n",
    "    \n",
    "    qc.h(Alice_Reg)\n",
    "    qc.cx(Alice_Reg, Bob_Reg)\n",
    "    \n",
    "    #Measurement Curcuit\n",
    "    measurement(i)\n",
    "    \n",
    "    Quantum_Circuit.append(qc)\n",
    "    #for i in range(N_en_pairs):\n",
    "    #qc.h(Alice_Reg[i])\n",
    "    #qc.cx(Alice_Reg[i], Bob_Reg[i])\n",
    "#Quantum_Circuit.draw(output='mpl')\n",
    "Quantum_Circuit"
   ]
  },
  {
   "cell_type": "code",
   "execution_count": null,
   "id": "24973f70",
   "metadata": {},
   "outputs": [],
   "source": []
  },
  {
   "cell_type": "code",
   "execution_count": null,
   "id": "4bf0d4ee",
   "metadata": {},
   "outputs": [],
   "source": []
  },
  {
   "cell_type": "code",
   "execution_count": 30,
   "id": "ce6733e0",
   "metadata": {},
   "outputs": [],
   "source": [
    "def Al_Bob_rand_basis(length):\n",
    "    \n",
    "    # This stores the bases that Alice will prepare the states in\n",
    "    alice_bases = \"\"\n",
    "    bob_bases = \"\"\n",
    "    \n",
    "    # For the length \n",
    "    for i in range(length):\n",
    "        # We use the function getrandbits to get either a 0 or 1 randomly,\n",
    "        # 0 means encode in the (0,1) basis and 1 means encode in the (+,-) basis\n",
    "        alice_bases += (str(getrandbits(1)))\n",
    "        bob_bases += (str(getrandbits(1)))\n",
    "    \n",
    "    # return the string of bits and the list of bases they should be encoded in\n",
    "    return alice_bases, bob_bases"
   ]
  },
  {
   "cell_type": "code",
   "execution_count": null,
   "id": "0eed0aed",
   "metadata": {},
   "outputs": [],
   "source": []
  },
  {
   "cell_type": "code",
   "execution_count": null,
   "id": "cd446ead",
   "metadata": {},
   "outputs": [],
   "source": []
  },
  {
   "cell_type": "code",
   "execution_count": null,
   "id": "f2b352a5",
   "metadata": {},
   "outputs": [],
   "source": []
  },
  {
   "cell_type": "code",
   "execution_count": null,
   "id": "289c5dfb",
   "metadata": {},
   "outputs": [],
   "source": []
  },
  {
   "cell_type": "code",
   "execution_count": null,
   "id": "6158045c",
   "metadata": {},
   "outputs": [],
   "source": []
  },
  {
   "cell_type": "code",
   "execution_count": null,
   "id": "34b2ff41",
   "metadata": {},
   "outputs": [],
   "source": []
  },
  {
   "cell_type": "code",
   "execution_count": 32,
   "id": "e7235009",
   "metadata": {},
   "outputs": [],
   "source": [
    "alice_bases, bob = Al_Bob_rand_basis(N_en_pairs)"
   ]
  },
  {
   "cell_type": "code",
   "execution_count": 33,
   "id": "9c4e770e",
   "metadata": {},
   "outputs": [
    {
     "data": {
      "text/plain": [
       "'0101'"
      ]
     },
     "execution_count": 33,
     "metadata": {},
     "output_type": "execute_result"
    }
   ],
   "source": [
    "alice"
   ]
  },
  {
   "cell_type": "code",
   "execution_count": null,
   "id": "9de1d0d9",
   "metadata": {},
   "outputs": [],
   "source": []
  },
  {
   "cell_type": "code",
   "execution_count": 13,
   "id": "81252e9a",
   "metadata": {},
   "outputs": [],
   "source": [
    "def testing():\n",
    "    from quantuminspire.credentials import save_account\n",
    "    save_account('35ef5a0ed17d10ac317893831724a209e47815a5')\n",
    "    project_name = 'E91_test'\n",
    "    authentication = get_authentication()\n",
    "    QI.set_authentication(authentication, QI_URL, project_name=project_name)\n",
    "    # Create an interface between Qiskit and Quantum Inpsire to execute the circuit\n",
    "    qi_backend = QI.get_backend('QX single-node simulator')\n",
    "    job = execute(Quantum_Circuit, qi_backend)"
   ]
  },
  {
   "cell_type": "code",
   "execution_count": 18,
   "id": "e4eebab7",
   "metadata": {},
   "outputs": [
    {
     "ename": "AttributeError",
     "evalue": "'QIJob' object has no attribute 'get_counts'",
     "output_type": "error",
     "traceback": [
      "\u001b[1;31m---------------------------------------------------------------------------\u001b[0m",
      "\u001b[1;31mAttributeError\u001b[0m                            Traceback (most recent call last)",
      "\u001b[1;32m~\\AppData\\Local\\Temp/ipykernel_14188/646086580.py\u001b[0m in \u001b[0;36m<module>\u001b[1;34m\u001b[0m\n\u001b[1;32m----> 1\u001b[1;33m \u001b[0mjob\u001b[0m\u001b[1;33m.\u001b[0m\u001b[0mget_counts\u001b[0m\u001b[1;33m(\u001b[0m\u001b[0mQuantum_Circuit\u001b[0m\u001b[1;33m)\u001b[0m\u001b[1;33m\u001b[0m\u001b[1;33m\u001b[0m\u001b[0m\n\u001b[0m",
      "\u001b[1;31mAttributeError\u001b[0m: 'QIJob' object has no attribute 'get_counts'"
     ]
    }
   ],
   "source": [
    "job.get_counts(Quantum_Circuit)"
   ]
  },
  {
   "cell_type": "code",
   "execution_count": null,
   "id": "cf065b17",
   "metadata": {},
   "outputs": [],
   "source": []
  }
 ],
 "metadata": {
  "kernelspec": {
   "display_name": "Python 3 (ipykernel)",
   "language": "python",
   "name": "python3"
  },
  "language_info": {
   "codemirror_mode": {
    "name": "ipython",
    "version": 3
   },
   "file_extension": ".py",
   "mimetype": "text/x-python",
   "name": "python",
   "nbconvert_exporter": "python",
   "pygments_lexer": "ipython3",
   "version": "3.9.7"
  }
 },
 "nbformat": 4,
 "nbformat_minor": 5
}
